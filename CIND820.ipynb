{
 "cells": [
  {
   "cell_type": "code",
   "execution_count": 2,
   "metadata": {},
   "outputs": [
    {
     "data": {
      "text/html": [
       "<table>\n",
       "<caption>A data.frame: 6 × 16</caption>\n",
       "<thead>\n",
       "\t<tr><th></th><th scope=col>video_id</th><th scope=col>trending_date</th><th scope=col>title</th><th scope=col>channel_title</th><th scope=col>category_id</th><th scope=col>publish_time</th><th scope=col>tags</th><th scope=col>views</th><th scope=col>likes</th><th scope=col>dislikes</th><th scope=col>comment_count</th><th scope=col>thumbnail_link</th><th scope=col>comments_disabled</th><th scope=col>ratings_disabled</th><th scope=col>video_error_or_removed</th><th scope=col>description</th></tr>\n",
       "\t<tr><th></th><th scope=col>&lt;fct&gt;</th><th scope=col>&lt;fct&gt;</th><th scope=col>&lt;fct&gt;</th><th scope=col>&lt;fct&gt;</th><th scope=col>&lt;int&gt;</th><th scope=col>&lt;fct&gt;</th><th scope=col>&lt;fct&gt;</th><th scope=col>&lt;int&gt;</th><th scope=col>&lt;int&gt;</th><th scope=col>&lt;int&gt;</th><th scope=col>&lt;int&gt;</th><th scope=col>&lt;fct&gt;</th><th scope=col>&lt;fct&gt;</th><th scope=col>&lt;fct&gt;</th><th scope=col>&lt;fct&gt;</th><th scope=col>&lt;fct&gt;</th></tr>\n",
       "</thead>\n",
       "<tbody>\n",
       "\t<tr><th scope=row>1</th><td>n1WpP7iowLc</td><td>17.14.11</td><td>Eminem - Walk On Water (Audio) ft. Beyoncé                                                   </td><td>EminemVEVO  </td><td>10</td><td>2017-11-10T17:00:03.000Z</td><td>Eminem|Walk|On|Water|Aftermath/Shady/Interscope|Rap                                                                                                                                                                                                                             </td><td>17158579</td><td> 787425</td><td>43420</td><td>125882</td><td>https://i.ytimg.com/vi/n1WpP7iowLc/default.jpg</td><td>False</td><td>False</td><td>False</td><td>Eminem's new track Walk on Water ft. Beyoncé is available everywhere: http://shady.sr/WOWEminem \\nPlaylist Best of Eminem: https://goo.gl/AquNpo\\nSubscribe for more: https://goo.gl/DxCrDV\\n\\nFor more visit: \\nhttp://eminem.com\\nhttp://facebook.com/eminem\\nhttp://twitter.com/eminem\\nhttp://instagram.com/eminem\\nhttp://eminem.tumblr.com\\nhttp://shadyrecords.com\\nhttp://facebook.com/shadyrecords\\nhttp://twitter.com/shadyrecords\\nhttp://instagram.com/shadyrecords\\nhttp://trustshady.tumblr.com\\n\\nMusic video by Eminem performing Walk On Water. (C) 2017 Aftermath Records\\nhttp://vevo.ly/gA7xKt                                                                                                                                                                                                                                                                                                                                                                                                                                                                                                                                                                                                                                                                                                           </td></tr>\n",
       "\t<tr><th scope=row>2</th><td>0dBIkQ4Mz1M</td><td>17.14.11</td><td>PLUSH - Bad Unboxing Fan Mail                                                                </td><td>iDubbbzTV   </td><td>23</td><td>2017-11-13T17:00:00.000Z</td><td>plush|bad unboxing|unboxing|fan mail|idubbbztv|idubbbztv2|things|best|packages|plushies|chontent chop                                                                                                                                                                           </td><td> 1014651</td><td> 127794</td><td> 1688</td><td> 13030</td><td>https://i.ytimg.com/vi/0dBIkQ4Mz1M/default.jpg</td><td>False</td><td>False</td><td>False</td><td>STill got a lot of packages. Probably will last for another year. On a side note, more 2nd channel vids soon. editing with premiere from now on, gon' be a tedious transition, but i think it's for the best. \\n\\n__\\n\\nSUBSCRIBE ► http://www.youtube.com/subscription_center?add_user=iDubbbztv\\n\\nMain Channel ► https://www.youtube.com/user/iDubbbzTV\\nSecond Channel ► https://www.youtube.com/channel/UC-tsNNJ3yIW98MtPH6PWFAQ\\nGaming Channel ► https://www.youtube.com/channel/UCVhfFXNY0z3-mbrTh1OYRXA\\n\\nWebsite ► http://www.idubbbz.com/\\n\\nInstagram ► https://instagram.com/idubbbz/\\nTwitter ► https://twitter.com/Idubbbz\\nFacebook ► http://www.facebook.com/IDubbbz\\nTwitch ► http://www.twitch.tv/idubbbz\\n_                                                                                                                                                                                                                                                                                                                                                                                                                                                                                                                                                                                              </td></tr>\n",
       "\t<tr><th scope=row>3</th><td>5qpjK5DgCt4</td><td>17.14.11</td><td><span style=white-space:pre-wrap>Racist Superman | Rudy Mancuso, King Bach &amp; Lele Pons                                        </span></td><td>Rudy Mancuso</td><td>23</td><td>2017-11-12T19:05:24.000Z</td><td>racist superman|rudy|mancuso|king|bach|racist|superman|love|rudy mancuso poo bear black white official music video|iphone x by pineapple|lelepons|hannahstocking|rudymancuso|inanna|anwar|sarkis|shots|shotsstudios|alesso|anitta|brazil|Getting My Driver's License | Lele Pons</td><td> 3191434</td><td> 146035</td><td> 5339</td><td><span style=white-space:pre-wrap>  8181</span></td><td>https://i.ytimg.com/vi/5qpjK5DgCt4/default.jpg</td><td>False</td><td>False</td><td>False</td><td><span style=white-space:pre-wrap>WATCH MY PREVIOUS VIDEO ▶ \\n\\nSUBSCRIBE ► https://www.youtube.com/channel/UC5jkXpfnBhlDjqh0ir5FsIQ?sub_confirmation=1\\n\\nTHANKS FOR WATCHING! LIKE &amp; SUBSCRIBE FOR MORE VIDEOS!\\n-----------------------------------------------------------\\nFIND ME ON: \\nInstagram | http://instagram.com/rudymancuso\\nTwitter | http://twitter.com/rudymancuso\\nFacebook | http://facebook.com/rudymancuso\\n\\nCAST: \\nRudy Mancuso | http://youtube.com/c/rudymancuso\\nLele Pons | http://youtube.com/c/lelepons\\nKing Bach | https://youtube.com/user/BachelorsPadTv\\n\\nVideo Effects: \\nCaleb Natale | https://instagram.com/calebnatale\\n\\nPA:\\nPaulina Gregory\\n\\n\\nShots Studios Channels:\\nAlesso | https://youtube.com/c/alesso\\nAnitta | http://youtube.com/c/anitta\\nAnwar Jibawi | http://youtube.com/c/anwar\\nAwkward Puppets | http://youtube.com/c/awkwardpuppets\\nHannah Stocking | http://youtube.com/c/hannahstocking\\nInanna Sarkis | http://youtube.com/c/inanna\\nLele Pons | http://youtube.com/c/lelepons\\nMaejor | http://youtube.com/c/maejor\\nMike Tyson | http://youtube.com/c/miketyson \\nRudy Mancuso | http://youtube.com/c/rudymancuso\\nShots Studios | http://youtube.com/c/shots\\n\\n#Rudy\\n#RudyMancuso                                                                                </span></td></tr>\n",
       "\t<tr><th scope=row>4</th><td>d380meD0W0M</td><td>17.14.11</td><td>I Dare You: GOING BALD!?                                                                     </td><td>nigahiga    </td><td>24</td><td>2017-11-12T18:01:41.000Z</td><td>ryan|higa|higatv|nigahiga|i dare you|idy|rhpc|dares|no truth|comments|comedy|funny|stupid|fail                                                                                                                                                                                  </td><td> 2095828</td><td> 132239</td><td> 1989</td><td> 17518</td><td>https://i.ytimg.com/vi/d380meD0W0M/default.jpg</td><td>False</td><td>False</td><td>False</td><td>I know it's been a while since we did this show, but we're back with what might be the best episode yet!\\nLeave your dares in the comment section! \\n\\nOrder my book how to write good \\nhttp://higatv.com/ryan-higas-how-to-write-good-pre-order-links/\\n\\nJust Launched New Official Store\\nhttps://www.gianthugs.com/collections/ryan\\n\\nHigaTV Channel\\nhttp://www.youtube.com/higatv\\n\\nTwitter\\nhttp://www.twitter.com/therealryanhiga\\n\\nFacebook\\nhttp://www.facebook.com/higatv\\n\\nWebsite\\nhttp://www.higatv.com\\n\\nInstagram\\nhttp://www.instagram.com/notryanhiga\\n\\nSend us mail or whatever you want here!\\nPO Box 232355\\nLas Vegas, NV 89105                                                                                                                                                                                                                                                                                                                                                                                                                                                                                                                                                                                                                                                        </td></tr>\n",
       "\t<tr><th scope=row>5</th><td>2Vv-BfVoq4g</td><td>17.14.11</td><td><span style=white-space:pre-wrap>Ed Sheeran - Perfect (Official Music Video)                                                  </span></td><td><span style=white-space:pre-wrap>Ed Sheeran  </span></td><td>10</td><td>2017-11-09T11:04:14.000Z</td><td><span style=white-space:pre-wrap>edsheeran|ed sheeran|acoustic|live|cover|official|remix|official video|lyrics|session                                                                                                                                                                                           </span></td><td>33523622</td><td>1634130</td><td>21082</td><td> 85067</td><td>https://i.ytimg.com/vi/2Vv-BfVoq4g/default.jpg</td><td>False</td><td>False</td><td>False</td><td>🎧: https://ad.gt/yt-perfect\\n💰: https://atlanti.cr/yt-album\\nSubscribe to Ed's channel: http://bit.ly/SubscribeToEdSheeran\\n\\nFollow Ed on...\\nFacebook: http://www.facebook.com/EdSheeranMusic\\nTwitter: http://twitter.com/edsheeran\\nInstagram: http://instagram.com/teddysphotos\\nOfficial Website: http://edsheeran.com\\n\\nDirector: Jason Koenig\\nProducer: Honna Kimmerer\\nStarring: Ed Sheeran &amp; Zoey Deutch \\nDirector of Photography: Johnny Valencia\\nProduction Company: Anonymous Content\\nExec Producer: Nina Soriano\\nProduction Manager: Doug Hoff\\nCommissioner: Dan Curwin\\nProduction Designer: John Lavin\\nLead Casting: Amy Hubbard \\n \\nWritten by: Jason Koenig, Ed Sheeran, Andrew Kolvet, Jenny Koenig, Murray Cummings\\n\\nEdited by: Jason Koenig &amp; Johnny Valencia\\nVFX: Ian Hubert\\n\\nCast: Bo Valencia, Dennis Ranalta, Arthur Pauli\\n \\nSki Cinematography: Corey Koniniec\\nSpecialty Camera op: Ryan Haug\\n1st AC: Ryan Brown\\n \\n1st Assistant Director: Ole Zapatka\\nArt Director: Klaus Hartl\\nSnow fx: Lucien Stephenson\\n\\nGaffer: Thomas Berz\\nStylist: Claudia Lajda\\nHair &amp; Makeup: Christel Thoresen\\nAustrian Casting: Ursula Kiplinger\\n \\nAdditional VFX: Zoic\\n\\nSpecial Thanks to: The Hintertux Glacier, Austria;\\nThe Tenne, and Hotel Neuhintertux</td></tr>\n",
       "\t<tr><th scope=row>6</th><td>0yIWz1XEeyc</td><td>17.14.11</td><td>Jake Paul Says Alissa Violet CHEATED with LOGAN PAUL! #DramaAlert Team 10 vs  Martinez Twins!</td><td>DramaAlert  </td><td>25</td><td>2017-11-13T07:37:51.000Z</td><td>#DramaAlert|Drama|Alert|DramaAlert|keemstar|youtube news|jake paul|team 10|alissa violet|cheated|logan paul|logan paul alissa violet|jake paul alissa violet|Martinez Twins|left team 10|faze banks|erika costell                                                               </td><td> 1309699</td><td> 103755</td><td> 4613</td><td> 12143</td><td>https://i.ytimg.com/vi/0yIWz1XEeyc/default.jpg</td><td>False</td><td>False</td><td>False</td><td>► Follow for News! - https://twitter.com/KEEMSTAR\\n\\n► Also follow #DramaAlert on:\\n⋆ Instagram: https://instagram.com/DramaAlert\\n⋆ Twitter: https://twitter.com/DramaAlert\\n⋆ Facebook: https://facebook.com/DramaAlert\\n\\n► Follow for livestreams! - https://twitch.tv/KEEMSTAR\\n\\n► KEEM Merch\\nhttp://keem.shirtz.cool\\n\\n► USE CODE (KEEM)\\nhttps://gfuel.com/pages/keemstar\\n\\nDollar in the Woods! (OUT NOW)\\n► iTunes\\nhttps://itunes.apple.com/us/album/dollar-in-the-woods-single/id1295414119https://itunes.apple.com/us/album/dollar-in-the-woods-single/id1295414119\\n\\n► Spotify \\nhttps://open.spotify.com/track/3uUHoKWqPbJ5qoREGbguC9?si=v4CgSBBR\\n\\n► YouTube (Music Video)\\nhttps://youtu.be/n38Qxi7TVWo\\n\\nAdpocalypse! (My New Game)\\n► Apple (iOS)\\nhttps://itunes.apple.com/us/app/the-adpocalypse/id1263621591\\n\\n► Android\\nhttps://play.google.com/store/apps/details?id=com.projectorgames.howtogetahead                                                                                                                                                                                                                                                                                                                                                                           </td></tr>\n",
       "</tbody>\n",
       "</table>\n"
      ],
      "text/latex": [
       "A data.frame: 6 × 16\n",
       "\\begin{tabular}{r|llllllllllllllll}\n",
       "  & video\\_id & trending\\_date & title & channel\\_title & category\\_id & publish\\_time & tags & views & likes & dislikes & comment\\_count & thumbnail\\_link & comments\\_disabled & ratings\\_disabled & video\\_error\\_or\\_removed & description\\\\\n",
       "  & <fct> & <fct> & <fct> & <fct> & <int> & <fct> & <fct> & <int> & <int> & <int> & <int> & <fct> & <fct> & <fct> & <fct> & <fct>\\\\\n",
       "\\hline\n",
       "\t1 & n1WpP7iowLc & 17.14.11 & Eminem - Walk On Water (Audio) ft. Beyoncé                                                    & EminemVEVO   & 10 & 2017-11-10T17:00:03.000Z & Eminem\\textbar{}Walk\\textbar{}On\\textbar{}Water\\textbar{}Aftermath/Shady/Interscope\\textbar{}Rap                                                                                                                                                                                                                              & 17158579 &  787425 & 43420 & 125882 & https://i.ytimg.com/vi/n1WpP7iowLc/default.jpg & False & False & False & Eminem's new track Walk on Water ft. Beyoncé is available everywhere: http://shady.sr/WOWEminem \\textbackslash{}nPlaylist Best of Eminem: https://goo.gl/AquNpo\\textbackslash{}nSubscribe for more: https://goo.gl/DxCrDV\\textbackslash{}n\\textbackslash{}nFor more visit: \\textbackslash{}nhttp://eminem.com\\textbackslash{}nhttp://facebook.com/eminem\\textbackslash{}nhttp://twitter.com/eminem\\textbackslash{}nhttp://instagram.com/eminem\\textbackslash{}nhttp://eminem.tumblr.com\\textbackslash{}nhttp://shadyrecords.com\\textbackslash{}nhttp://facebook.com/shadyrecords\\textbackslash{}nhttp://twitter.com/shadyrecords\\textbackslash{}nhttp://instagram.com/shadyrecords\\textbackslash{}nhttp://trustshady.tumblr.com\\textbackslash{}n\\textbackslash{}nMusic video by Eminem performing Walk On Water. (C) 2017 Aftermath Records\\textbackslash{}nhttp://vevo.ly/gA7xKt                                                                                                                                                                                                                                                                                                                                                                                                                                                                                                                                                                                                                                                                                                           \\\\\n",
       "\t2 & 0dBIkQ4Mz1M & 17.14.11 & PLUSH - Bad Unboxing Fan Mail                                                                 & iDubbbzTV    & 23 & 2017-11-13T17:00:00.000Z & plush\\textbar{}bad unboxing\\textbar{}unboxing\\textbar{}fan mail\\textbar{}idubbbztv\\textbar{}idubbbztv2\\textbar{}things\\textbar{}best\\textbar{}packages\\textbar{}plushies\\textbar{}chontent chop                                                                                                                                                                            &  1014651 &  127794 &  1688 &  13030 & https://i.ytimg.com/vi/0dBIkQ4Mz1M/default.jpg & False & False & False & STill got a lot of packages. Probably will last for another year. On a side note, more 2nd channel vids soon. editing with premiere from now on, gon' be a tedious transition, but i think it's for the best. \\textbackslash{}n\\textbackslash{}n\\_\\_\\textbackslash{}n\\textbackslash{}nSUBSCRIBE ► http://www.youtube.com/subscription\\_center?add\\_user=iDubbbztv\\textbackslash{}n\\textbackslash{}nMain Channel ► https://www.youtube.com/user/iDubbbzTV\\textbackslash{}nSecond Channel ► https://www.youtube.com/channel/UC-tsNNJ3yIW98MtPH6PWFAQ\\textbackslash{}nGaming Channel ► https://www.youtube.com/channel/UCVhfFXNY0z3-mbrTh1OYRXA\\textbackslash{}n\\textbackslash{}nWebsite ► http://www.idubbbz.com/\\textbackslash{}n\\textbackslash{}nInstagram ► https://instagram.com/idubbbz/\\textbackslash{}nTwitter ► https://twitter.com/Idubbbz\\textbackslash{}nFacebook ► http://www.facebook.com/IDubbbz\\textbackslash{}nTwitch ► http://www.twitch.tv/idubbbz\\textbackslash{}n\\_                                                                                                                                                                                                                                                                                                                                                                                                                                                                                                                                                                                              \\\\\n",
       "\t3 & 5qpjK5DgCt4 & 17.14.11 & Racist Superman \\textbar{} Rudy Mancuso, King Bach \\& Lele Pons                                         & Rudy Mancuso & 23 & 2017-11-12T19:05:24.000Z & racist superman\\textbar{}rudy\\textbar{}mancuso\\textbar{}king\\textbar{}bach\\textbar{}racist\\textbar{}superman\\textbar{}love\\textbar{}rudy mancuso poo bear black white official music video\\textbar{}iphone x by pineapple\\textbar{}lelepons\\textbar{}hannahstocking\\textbar{}rudymancuso\\textbar{}inanna\\textbar{}anwar\\textbar{}sarkis\\textbar{}shots\\textbar{}shotsstudios\\textbar{}alesso\\textbar{}anitta\\textbar{}brazil\\textbar{}Getting My Driver's License \\textbar{} Lele Pons &  3191434 &  146035 &  5339 &   8181 & https://i.ytimg.com/vi/5qpjK5DgCt4/default.jpg & False & False & False & WATCH MY PREVIOUS VIDEO ▶ \\textbackslash{}n\\textbackslash{}nSUBSCRIBE ► https://www.youtube.com/channel/UC5jkXpfnBhlDjqh0ir5FsIQ?sub\\_confirmation=1\\textbackslash{}n\\textbackslash{}nTHANKS FOR WATCHING! LIKE \\& SUBSCRIBE FOR MORE VIDEOS!\\textbackslash{}n-----------------------------------------------------------\\textbackslash{}nFIND ME ON: \\textbackslash{}nInstagram \\textbar{} http://instagram.com/rudymancuso\\textbackslash{}nTwitter \\textbar{} http://twitter.com/rudymancuso\\textbackslash{}nFacebook \\textbar{} http://facebook.com/rudymancuso\\textbackslash{}n\\textbackslash{}nCAST: \\textbackslash{}nRudy Mancuso \\textbar{} http://youtube.com/c/rudymancuso\\textbackslash{}nLele Pons \\textbar{} http://youtube.com/c/lelepons\\textbackslash{}nKing Bach \\textbar{} https://youtube.com/user/BachelorsPadTv\\textbackslash{}n\\textbackslash{}nVideo Effects: \\textbackslash{}nCaleb Natale \\textbar{} https://instagram.com/calebnatale\\textbackslash{}n\\textbackslash{}nPA:\\textbackslash{}nPaulina Gregory\\textbackslash{}n\\textbackslash{}n\\textbackslash{}nShots Studios Channels:\\textbackslash{}nAlesso \\textbar{} https://youtube.com/c/alesso\\textbackslash{}nAnitta \\textbar{} http://youtube.com/c/anitta\\textbackslash{}nAnwar Jibawi \\textbar{} http://youtube.com/c/anwar\\textbackslash{}nAwkward Puppets \\textbar{} http://youtube.com/c/awkwardpuppets\\textbackslash{}nHannah Stocking \\textbar{} http://youtube.com/c/hannahstocking\\textbackslash{}nInanna Sarkis \\textbar{} http://youtube.com/c/inanna\\textbackslash{}nLele Pons \\textbar{} http://youtube.com/c/lelepons\\textbackslash{}nMaejor \\textbar{} http://youtube.com/c/maejor\\textbackslash{}nMike Tyson \\textbar{} http://youtube.com/c/miketyson \\textbackslash{}nRudy Mancuso \\textbar{} http://youtube.com/c/rudymancuso\\textbackslash{}nShots Studios \\textbar{} http://youtube.com/c/shots\\textbackslash{}n\\textbackslash{}n\\#Rudy\\textbackslash{}n\\#RudyMancuso                                                                                \\\\\n",
       "\t4 & d380meD0W0M & 17.14.11 & I Dare You: GOING BALD!?                                                                      & nigahiga     & 24 & 2017-11-12T18:01:41.000Z & ryan\\textbar{}higa\\textbar{}higatv\\textbar{}nigahiga\\textbar{}i dare you\\textbar{}idy\\textbar{}rhpc\\textbar{}dares\\textbar{}no truth\\textbar{}comments\\textbar{}comedy\\textbar{}funny\\textbar{}stupid\\textbar{}fail                                                                                                                                                                                   &  2095828 &  132239 &  1989 &  17518 & https://i.ytimg.com/vi/d380meD0W0M/default.jpg & False & False & False & I know it's been a while since we did this show, but we're back with what might be the best episode yet!\\textbackslash{}nLeave your dares in the comment section! \\textbackslash{}n\\textbackslash{}nOrder my book how to write good \\textbackslash{}nhttp://higatv.com/ryan-higas-how-to-write-good-pre-order-links/\\textbackslash{}n\\textbackslash{}nJust Launched New Official Store\\textbackslash{}nhttps://www.gianthugs.com/collections/ryan\\textbackslash{}n\\textbackslash{}nHigaTV Channel\\textbackslash{}nhttp://www.youtube.com/higatv\\textbackslash{}n\\textbackslash{}nTwitter\\textbackslash{}nhttp://www.twitter.com/therealryanhiga\\textbackslash{}n\\textbackslash{}nFacebook\\textbackslash{}nhttp://www.facebook.com/higatv\\textbackslash{}n\\textbackslash{}nWebsite\\textbackslash{}nhttp://www.higatv.com\\textbackslash{}n\\textbackslash{}nInstagram\\textbackslash{}nhttp://www.instagram.com/notryanhiga\\textbackslash{}n\\textbackslash{}nSend us mail or whatever you want here!\\textbackslash{}nPO Box 232355\\textbackslash{}nLas Vegas, NV 89105                                                                                                                                                                                                                                                                                                                                                                                                                                                                                                                                                                                                                                                        \\\\\n",
       "\t5 & 2Vv-BfVoq4g & 17.14.11 & Ed Sheeran - Perfect (Official Music Video)                                                   & Ed Sheeran   & 10 & 2017-11-09T11:04:14.000Z & edsheeran\\textbar{}ed sheeran\\textbar{}acoustic\\textbar{}live\\textbar{}cover\\textbar{}official\\textbar{}remix\\textbar{}official video\\textbar{}lyrics\\textbar{}session                                                                                                                                                                                            & 33523622 & 1634130 & 21082 &  85067 & https://i.ytimg.com/vi/2Vv-BfVoq4g/default.jpg & False & False & False & 🎧: https://ad.gt/yt-perfect\\textbackslash{}n💰: https://atlanti.cr/yt-album\\textbackslash{}nSubscribe to Ed's channel: http://bit.ly/SubscribeToEdSheeran\\textbackslash{}n\\textbackslash{}nFollow Ed on...\\textbackslash{}nFacebook: http://www.facebook.com/EdSheeranMusic\\textbackslash{}nTwitter: http://twitter.com/edsheeran\\textbackslash{}nInstagram: http://instagram.com/teddysphotos\\textbackslash{}nOfficial Website: http://edsheeran.com\\textbackslash{}n\\textbackslash{}nDirector: Jason Koenig\\textbackslash{}nProducer: Honna Kimmerer\\textbackslash{}nStarring: Ed Sheeran \\& Zoey Deutch \\textbackslash{}nDirector of Photography: Johnny Valencia\\textbackslash{}nProduction Company: Anonymous Content\\textbackslash{}nExec Producer: Nina Soriano\\textbackslash{}nProduction Manager: Doug Hoff\\textbackslash{}nCommissioner: Dan Curwin\\textbackslash{}nProduction Designer: John Lavin\\textbackslash{}nLead Casting: Amy Hubbard \\textbackslash{}n \\textbackslash{}nWritten by: Jason Koenig, Ed Sheeran, Andrew Kolvet, Jenny Koenig, Murray Cummings\\textbackslash{}n\\textbackslash{}nEdited by: Jason Koenig \\& Johnny Valencia\\textbackslash{}nVFX: Ian Hubert\\textbackslash{}n\\textbackslash{}nCast: Bo Valencia, Dennis Ranalta, Arthur Pauli\\textbackslash{}n \\textbackslash{}nSki Cinematography: Corey Koniniec\\textbackslash{}nSpecialty Camera op: Ryan Haug\\textbackslash{}n1st AC: Ryan Brown\\textbackslash{}n \\textbackslash{}n1st Assistant Director: Ole Zapatka\\textbackslash{}nArt Director: Klaus Hartl\\textbackslash{}nSnow fx: Lucien Stephenson\\textbackslash{}n\\textbackslash{}nGaffer: Thomas Berz\\textbackslash{}nStylist: Claudia Lajda\\textbackslash{}nHair \\& Makeup: Christel Thoresen\\textbackslash{}nAustrian Casting: Ursula Kiplinger\\textbackslash{}n \\textbackslash{}nAdditional VFX: Zoic\\textbackslash{}n\\textbackslash{}nSpecial Thanks to: The Hintertux Glacier, Austria;\\textbackslash{}nThe Tenne, and Hotel Neuhintertux\\\\\n",
       "\t6 & 0yIWz1XEeyc & 17.14.11 & Jake Paul Says Alissa Violet CHEATED with LOGAN PAUL! \\#DramaAlert Team 10 vs  Martinez Twins! & DramaAlert   & 25 & 2017-11-13T07:37:51.000Z & \\#DramaAlert\\textbar{}Drama\\textbar{}Alert\\textbar{}DramaAlert\\textbar{}keemstar\\textbar{}youtube news\\textbar{}jake paul\\textbar{}team 10\\textbar{}alissa violet\\textbar{}cheated\\textbar{}logan paul\\textbar{}logan paul alissa violet\\textbar{}jake paul alissa violet\\textbar{}Martinez Twins\\textbar{}left team 10\\textbar{}faze banks\\textbar{}erika costell                                                                &  1309699 &  103755 &  4613 &  12143 & https://i.ytimg.com/vi/0yIWz1XEeyc/default.jpg & False & False & False & ► Follow for News! - https://twitter.com/KEEMSTAR\\textbackslash{}n\\textbackslash{}n► Also follow \\#DramaAlert on:\\textbackslash{}n⋆ Instagram: https://instagram.com/DramaAlert\\textbackslash{}n⋆ Twitter: https://twitter.com/DramaAlert\\textbackslash{}n⋆ Facebook: https://facebook.com/DramaAlert\\textbackslash{}n\\textbackslash{}n► Follow for livestreams! - https://twitch.tv/KEEMSTAR\\textbackslash{}n\\textbackslash{}n► KEEM Merch\\textbackslash{}nhttp://keem.shirtz.cool\\textbackslash{}n\\textbackslash{}n► USE CODE (KEEM)\\textbackslash{}nhttps://gfuel.com/pages/keemstar\\textbackslash{}n\\textbackslash{}nDollar in the Woods! (OUT NOW)\\textbackslash{}n► iTunes\\textbackslash{}nhttps://itunes.apple.com/us/album/dollar-in-the-woods-single/id1295414119https://itunes.apple.com/us/album/dollar-in-the-woods-single/id1295414119\\textbackslash{}n\\textbackslash{}n► Spotify \\textbackslash{}nhttps://open.spotify.com/track/3uUHoKWqPbJ5qoREGbguC9?si=v4CgSBBR\\textbackslash{}n\\textbackslash{}n► YouTube (Music Video)\\textbackslash{}nhttps://youtu.be/n38Qxi7TVWo\\textbackslash{}n\\textbackslash{}nAdpocalypse! (My New Game)\\textbackslash{}n► Apple (iOS)\\textbackslash{}nhttps://itunes.apple.com/us/app/the-adpocalypse/id1263621591\\textbackslash{}n\\textbackslash{}n► Android\\textbackslash{}nhttps://play.google.com/store/apps/details?id=com.projectorgames.howtogetahead                                                                                                                                                                                                                                                                                                                                                                           \\\\\n",
       "\\end{tabular}\n"
      ],
      "text/markdown": [
       "\n",
       "A data.frame: 6 × 16\n",
       "\n",
       "| <!--/--> | video_id &lt;fct&gt; | trending_date &lt;fct&gt; | title &lt;fct&gt; | channel_title &lt;fct&gt; | category_id &lt;int&gt; | publish_time &lt;fct&gt; | tags &lt;fct&gt; | views &lt;int&gt; | likes &lt;int&gt; | dislikes &lt;int&gt; | comment_count &lt;int&gt; | thumbnail_link &lt;fct&gt; | comments_disabled &lt;fct&gt; | ratings_disabled &lt;fct&gt; | video_error_or_removed &lt;fct&gt; | description &lt;fct&gt; |\n",
       "|---|---|---|---|---|---|---|---|---|---|---|---|---|---|---|---|---|\n",
       "| 1 | n1WpP7iowLc | 17.14.11 | Eminem - Walk On Water (Audio) ft. Beyoncé                                                    | EminemVEVO   | 10 | 2017-11-10T17:00:03.000Z | Eminem|Walk|On|Water|Aftermath/Shady/Interscope|Rap                                                                                                                                                                                                                              | 17158579 |  787425 | 43420 | 125882 | https://i.ytimg.com/vi/n1WpP7iowLc/default.jpg | False | False | False | Eminem's new track Walk on Water ft. Beyoncé is available everywhere: http://shady.sr/WOWEminem \\nPlaylist Best of Eminem: https://goo.gl/AquNpo\\nSubscribe for more: https://goo.gl/DxCrDV\\n\\nFor more visit: \\nhttp://eminem.com\\nhttp://facebook.com/eminem\\nhttp://twitter.com/eminem\\nhttp://instagram.com/eminem\\nhttp://eminem.tumblr.com\\nhttp://shadyrecords.com\\nhttp://facebook.com/shadyrecords\\nhttp://twitter.com/shadyrecords\\nhttp://instagram.com/shadyrecords\\nhttp://trustshady.tumblr.com\\n\\nMusic video by Eminem performing Walk On Water. (C) 2017 Aftermath Records\\nhttp://vevo.ly/gA7xKt                                                                                                                                                                                                                                                                                                                                                                                                                                                                                                                                                                                                                                                                                                            |\n",
       "| 2 | 0dBIkQ4Mz1M | 17.14.11 | PLUSH - Bad Unboxing Fan Mail                                                                 | iDubbbzTV    | 23 | 2017-11-13T17:00:00.000Z | plush|bad unboxing|unboxing|fan mail|idubbbztv|idubbbztv2|things|best|packages|plushies|chontent chop                                                                                                                                                                            |  1014651 |  127794 |  1688 |  13030 | https://i.ytimg.com/vi/0dBIkQ4Mz1M/default.jpg | False | False | False | STill got a lot of packages. Probably will last for another year. On a side note, more 2nd channel vids soon. editing with premiere from now on, gon' be a tedious transition, but i think it's for the best. \\n\\n__\\n\\nSUBSCRIBE ► http://www.youtube.com/subscription_center?add_user=iDubbbztv\\n\\nMain Channel ► https://www.youtube.com/user/iDubbbzTV\\nSecond Channel ► https://www.youtube.com/channel/UC-tsNNJ3yIW98MtPH6PWFAQ\\nGaming Channel ► https://www.youtube.com/channel/UCVhfFXNY0z3-mbrTh1OYRXA\\n\\nWebsite ► http://www.idubbbz.com/\\n\\nInstagram ► https://instagram.com/idubbbz/\\nTwitter ► https://twitter.com/Idubbbz\\nFacebook ► http://www.facebook.com/IDubbbz\\nTwitch ► http://www.twitch.tv/idubbbz\\n_                                                                                                                                                                                                                                                                                                                                                                                                                                                                                                                                                                                               |\n",
       "| 3 | 5qpjK5DgCt4 | 17.14.11 | Racist Superman | Rudy Mancuso, King Bach &amp; Lele Pons                                         | Rudy Mancuso | 23 | 2017-11-12T19:05:24.000Z | racist superman|rudy|mancuso|king|bach|racist|superman|love|rudy mancuso poo bear black white official music video|iphone x by pineapple|lelepons|hannahstocking|rudymancuso|inanna|anwar|sarkis|shots|shotsstudios|alesso|anitta|brazil|Getting My Driver's License | Lele Pons |  3191434 |  146035 |  5339 |   8181 | https://i.ytimg.com/vi/5qpjK5DgCt4/default.jpg | False | False | False | WATCH MY PREVIOUS VIDEO ▶ \\n\\nSUBSCRIBE ► https://www.youtube.com/channel/UC5jkXpfnBhlDjqh0ir5FsIQ?sub_confirmation=1\\n\\nTHANKS FOR WATCHING! LIKE &amp; SUBSCRIBE FOR MORE VIDEOS!\\n-----------------------------------------------------------\\nFIND ME ON: \\nInstagram | http://instagram.com/rudymancuso\\nTwitter | http://twitter.com/rudymancuso\\nFacebook | http://facebook.com/rudymancuso\\n\\nCAST: \\nRudy Mancuso | http://youtube.com/c/rudymancuso\\nLele Pons | http://youtube.com/c/lelepons\\nKing Bach | https://youtube.com/user/BachelorsPadTv\\n\\nVideo Effects: \\nCaleb Natale | https://instagram.com/calebnatale\\n\\nPA:\\nPaulina Gregory\\n\\n\\nShots Studios Channels:\\nAlesso | https://youtube.com/c/alesso\\nAnitta | http://youtube.com/c/anitta\\nAnwar Jibawi | http://youtube.com/c/anwar\\nAwkward Puppets | http://youtube.com/c/awkwardpuppets\\nHannah Stocking | http://youtube.com/c/hannahstocking\\nInanna Sarkis | http://youtube.com/c/inanna\\nLele Pons | http://youtube.com/c/lelepons\\nMaejor | http://youtube.com/c/maejor\\nMike Tyson | http://youtube.com/c/miketyson \\nRudy Mancuso | http://youtube.com/c/rudymancuso\\nShots Studios | http://youtube.com/c/shots\\n\\n#Rudy\\n#RudyMancuso                                                                                 |\n",
       "| 4 | d380meD0W0M | 17.14.11 | I Dare You: GOING BALD!?                                                                      | nigahiga     | 24 | 2017-11-12T18:01:41.000Z | ryan|higa|higatv|nigahiga|i dare you|idy|rhpc|dares|no truth|comments|comedy|funny|stupid|fail                                                                                                                                                                                   |  2095828 |  132239 |  1989 |  17518 | https://i.ytimg.com/vi/d380meD0W0M/default.jpg | False | False | False | I know it's been a while since we did this show, but we're back with what might be the best episode yet!\\nLeave your dares in the comment section! \\n\\nOrder my book how to write good \\nhttp://higatv.com/ryan-higas-how-to-write-good-pre-order-links/\\n\\nJust Launched New Official Store\\nhttps://www.gianthugs.com/collections/ryan\\n\\nHigaTV Channel\\nhttp://www.youtube.com/higatv\\n\\nTwitter\\nhttp://www.twitter.com/therealryanhiga\\n\\nFacebook\\nhttp://www.facebook.com/higatv\\n\\nWebsite\\nhttp://www.higatv.com\\n\\nInstagram\\nhttp://www.instagram.com/notryanhiga\\n\\nSend us mail or whatever you want here!\\nPO Box 232355\\nLas Vegas, NV 89105                                                                                                                                                                                                                                                                                                                                                                                                                                                                                                                                                                                                                                                         |\n",
       "| 5 | 2Vv-BfVoq4g | 17.14.11 | Ed Sheeran - Perfect (Official Music Video)                                                   | Ed Sheeran   | 10 | 2017-11-09T11:04:14.000Z | edsheeran|ed sheeran|acoustic|live|cover|official|remix|official video|lyrics|session                                                                                                                                                                                            | 33523622 | 1634130 | 21082 |  85067 | https://i.ytimg.com/vi/2Vv-BfVoq4g/default.jpg | False | False | False | 🎧: https://ad.gt/yt-perfect\\n💰: https://atlanti.cr/yt-album\\nSubscribe to Ed's channel: http://bit.ly/SubscribeToEdSheeran\\n\\nFollow Ed on...\\nFacebook: http://www.facebook.com/EdSheeranMusic\\nTwitter: http://twitter.com/edsheeran\\nInstagram: http://instagram.com/teddysphotos\\nOfficial Website: http://edsheeran.com\\n\\nDirector: Jason Koenig\\nProducer: Honna Kimmerer\\nStarring: Ed Sheeran &amp; Zoey Deutch \\nDirector of Photography: Johnny Valencia\\nProduction Company: Anonymous Content\\nExec Producer: Nina Soriano\\nProduction Manager: Doug Hoff\\nCommissioner: Dan Curwin\\nProduction Designer: John Lavin\\nLead Casting: Amy Hubbard \\n \\nWritten by: Jason Koenig, Ed Sheeran, Andrew Kolvet, Jenny Koenig, Murray Cummings\\n\\nEdited by: Jason Koenig &amp; Johnny Valencia\\nVFX: Ian Hubert\\n\\nCast: Bo Valencia, Dennis Ranalta, Arthur Pauli\\n \\nSki Cinematography: Corey Koniniec\\nSpecialty Camera op: Ryan Haug\\n1st AC: Ryan Brown\\n \\n1st Assistant Director: Ole Zapatka\\nArt Director: Klaus Hartl\\nSnow fx: Lucien Stephenson\\n\\nGaffer: Thomas Berz\\nStylist: Claudia Lajda\\nHair &amp; Makeup: Christel Thoresen\\nAustrian Casting: Ursula Kiplinger\\n \\nAdditional VFX: Zoic\\n\\nSpecial Thanks to: The Hintertux Glacier, Austria;\\nThe Tenne, and Hotel Neuhintertux |\n",
       "| 6 | 0yIWz1XEeyc | 17.14.11 | Jake Paul Says Alissa Violet CHEATED with LOGAN PAUL! #DramaAlert Team 10 vs  Martinez Twins! | DramaAlert   | 25 | 2017-11-13T07:37:51.000Z | #DramaAlert|Drama|Alert|DramaAlert|keemstar|youtube news|jake paul|team 10|alissa violet|cheated|logan paul|logan paul alissa violet|jake paul alissa violet|Martinez Twins|left team 10|faze banks|erika costell                                                                |  1309699 |  103755 |  4613 |  12143 | https://i.ytimg.com/vi/0yIWz1XEeyc/default.jpg | False | False | False | ► Follow for News! - https://twitter.com/KEEMSTAR\\n\\n► Also follow #DramaAlert on:\\n⋆ Instagram: https://instagram.com/DramaAlert\\n⋆ Twitter: https://twitter.com/DramaAlert\\n⋆ Facebook: https://facebook.com/DramaAlert\\n\\n► Follow for livestreams! - https://twitch.tv/KEEMSTAR\\n\\n► KEEM Merch\\nhttp://keem.shirtz.cool\\n\\n► USE CODE (KEEM)\\nhttps://gfuel.com/pages/keemstar\\n\\nDollar in the Woods! (OUT NOW)\\n► iTunes\\nhttps://itunes.apple.com/us/album/dollar-in-the-woods-single/id1295414119https://itunes.apple.com/us/album/dollar-in-the-woods-single/id1295414119\\n\\n► Spotify \\nhttps://open.spotify.com/track/3uUHoKWqPbJ5qoREGbguC9?si=v4CgSBBR\\n\\n► YouTube (Music Video)\\nhttps://youtu.be/n38Qxi7TVWo\\n\\nAdpocalypse! (My New Game)\\n► Apple (iOS)\\nhttps://itunes.apple.com/us/app/the-adpocalypse/id1263621591\\n\\n► Android\\nhttps://play.google.com/store/apps/details?id=com.projectorgames.howtogetahead                                                                                                                                                                                                                                                                                                                                                                            |\n",
       "\n"
      ],
      "text/plain": [
       "  video_id    trending_date\n",
       "1 n1WpP7iowLc 17.14.11     \n",
       "2 0dBIkQ4Mz1M 17.14.11     \n",
       "3 5qpjK5DgCt4 17.14.11     \n",
       "4 d380meD0W0M 17.14.11     \n",
       "5 2Vv-BfVoq4g 17.14.11     \n",
       "6 0yIWz1XEeyc 17.14.11     \n",
       "  title                                                                                        \n",
       "1 Eminem - Walk On Water (Audio) ft. Beyoncé                                                   \n",
       "2 PLUSH - Bad Unboxing Fan Mail                                                                \n",
       "3 Racist Superman | Rudy Mancuso, King Bach & Lele Pons                                        \n",
       "4 I Dare You: GOING BALD!?                                                                     \n",
       "5 Ed Sheeran - Perfect (Official Music Video)                                                  \n",
       "6 Jake Paul Says Alissa Violet CHEATED with LOGAN PAUL! #DramaAlert Team 10 vs  Martinez Twins!\n",
       "  channel_title category_id publish_time            \n",
       "1 EminemVEVO    10          2017-11-10T17:00:03.000Z\n",
       "2 iDubbbzTV     23          2017-11-13T17:00:00.000Z\n",
       "3 Rudy Mancuso  23          2017-11-12T19:05:24.000Z\n",
       "4 nigahiga      24          2017-11-12T18:01:41.000Z\n",
       "5 Ed Sheeran    10          2017-11-09T11:04:14.000Z\n",
       "6 DramaAlert    25          2017-11-13T07:37:51.000Z\n",
       "  tags                                                                                                                                                                                                                                                                            \n",
       "1 Eminem|Walk|On|Water|Aftermath/Shady/Interscope|Rap                                                                                                                                                                                                                             \n",
       "2 plush|bad unboxing|unboxing|fan mail|idubbbztv|idubbbztv2|things|best|packages|plushies|chontent chop                                                                                                                                                                           \n",
       "3 racist superman|rudy|mancuso|king|bach|racist|superman|love|rudy mancuso poo bear black white official music video|iphone x by pineapple|lelepons|hannahstocking|rudymancuso|inanna|anwar|sarkis|shots|shotsstudios|alesso|anitta|brazil|Getting My Driver's License | Lele Pons\n",
       "4 ryan|higa|higatv|nigahiga|i dare you|idy|rhpc|dares|no truth|comments|comedy|funny|stupid|fail                                                                                                                                                                                  \n",
       "5 edsheeran|ed sheeran|acoustic|live|cover|official|remix|official video|lyrics|session                                                                                                                                                                                           \n",
       "6 #DramaAlert|Drama|Alert|DramaAlert|keemstar|youtube news|jake paul|team 10|alissa violet|cheated|logan paul|logan paul alissa violet|jake paul alissa violet|Martinez Twins|left team 10|faze banks|erika costell                                                               \n",
       "  views    likes   dislikes comment_count\n",
       "1 17158579  787425 43420    125882       \n",
       "2  1014651  127794  1688     13030       \n",
       "3  3191434  146035  5339      8181       \n",
       "4  2095828  132239  1989     17518       \n",
       "5 33523622 1634130 21082     85067       \n",
       "6  1309699  103755  4613     12143       \n",
       "  thumbnail_link                                 comments_disabled\n",
       "1 https://i.ytimg.com/vi/n1WpP7iowLc/default.jpg False            \n",
       "2 https://i.ytimg.com/vi/0dBIkQ4Mz1M/default.jpg False            \n",
       "3 https://i.ytimg.com/vi/5qpjK5DgCt4/default.jpg False            \n",
       "4 https://i.ytimg.com/vi/d380meD0W0M/default.jpg False            \n",
       "5 https://i.ytimg.com/vi/2Vv-BfVoq4g/default.jpg False            \n",
       "6 https://i.ytimg.com/vi/0yIWz1XEeyc/default.jpg False            \n",
       "  ratings_disabled video_error_or_removed\n",
       "1 False            False                 \n",
       "2 False            False                 \n",
       "3 False            False                 \n",
       "4 False            False                 \n",
       "5 False            False                 \n",
       "6 False            False                 \n",
       "  description                                                                                                                                                                                                                                                                                                                                                                                                                                                                                                                                                                                                                                                                                                                                                                                                                                                                                                                                                                                                                                                                                                                                                                                                                                                                                                                                   \n",
       "1 Eminem's new track Walk on Water ft. Beyoncé is available everywhere: http://shady.sr/WOWEminem \\\\nPlaylist Best of Eminem: https://goo.gl/AquNpo\\\\nSubscribe for more: https://goo.gl/DxCrDV\\\\n\\\\nFor more visit: \\\\nhttp://eminem.com\\\\nhttp://facebook.com/eminem\\\\nhttp://twitter.com/eminem\\\\nhttp://instagram.com/eminem\\\\nhttp://eminem.tumblr.com\\\\nhttp://shadyrecords.com\\\\nhttp://facebook.com/shadyrecords\\\\nhttp://twitter.com/shadyrecords\\\\nhttp://instagram.com/shadyrecords\\\\nhttp://trustshady.tumblr.com\\\\n\\\\nMusic video by Eminem performing Walk On Water. (C) 2017 Aftermath Records\\\\nhttp://vevo.ly/gA7xKt                                                                                                                                                                                                                                                                                                                                                                                                                                                                                                                                                                                                                                                                                                           \n",
       "2 STill got a lot of packages. Probably will last for another year. On a side note, more 2nd channel vids soon. editing with premiere from now on, gon' be a tedious transition, but i think it's for the best. \\\\n\\\\n__\\\\n\\\\nSUBSCRIBE ► http://www.youtube.com/subscription_center?add_user=iDubbbztv\\\\n\\\\nMain Channel ► https://www.youtube.com/user/iDubbbzTV\\\\nSecond Channel ► https://www.youtube.com/channel/UC-tsNNJ3yIW98MtPH6PWFAQ\\\\nGaming Channel ► https://www.youtube.com/channel/UCVhfFXNY0z3-mbrTh1OYRXA\\\\n\\\\nWebsite ► http://www.idubbbz.com/\\\\n\\\\nInstagram ► https://instagram.com/idubbbz/\\\\nTwitter ► https://twitter.com/Idubbbz\\\\nFacebook ► http://www.facebook.com/IDubbbz\\\\nTwitch ► http://www.twitch.tv/idubbbz\\\\n_                                                                                                                                                                                                                                                                                                                                                                                                                                                                                                                                                                                              \n",
       "3 WATCH MY PREVIOUS VIDEO ▶ \\\\n\\\\nSUBSCRIBE ► https://www.youtube.com/channel/UC5jkXpfnBhlDjqh0ir5FsIQ?sub_confirmation=1\\\\n\\\\nTHANKS FOR WATCHING! LIKE & SUBSCRIBE FOR MORE VIDEOS!\\\\n-----------------------------------------------------------\\\\nFIND ME ON: \\\\nInstagram | http://instagram.com/rudymancuso\\\\nTwitter | http://twitter.com/rudymancuso\\\\nFacebook | http://facebook.com/rudymancuso\\\\n\\\\nCAST: \\\\nRudy Mancuso | http://youtube.com/c/rudymancuso\\\\nLele Pons | http://youtube.com/c/lelepons\\\\nKing Bach | https://youtube.com/user/BachelorsPadTv\\\\n\\\\nVideo Effects: \\\\nCaleb Natale | https://instagram.com/calebnatale\\\\n\\\\nPA:\\\\nPaulina Gregory\\\\n\\\\n\\\\nShots Studios Channels:\\\\nAlesso | https://youtube.com/c/alesso\\\\nAnitta | http://youtube.com/c/anitta\\\\nAnwar Jibawi | http://youtube.com/c/anwar\\\\nAwkward Puppets | http://youtube.com/c/awkwardpuppets\\\\nHannah Stocking | http://youtube.com/c/hannahstocking\\\\nInanna Sarkis | http://youtube.com/c/inanna\\\\nLele Pons | http://youtube.com/c/lelepons\\\\nMaejor | http://youtube.com/c/maejor\\\\nMike Tyson | http://youtube.com/c/miketyson \\\\nRudy Mancuso | http://youtube.com/c/rudymancuso\\\\nShots Studios | http://youtube.com/c/shots\\\\n\\\\n#Rudy\\\\n#RudyMancuso                                                                                \n",
       "4 I know it's been a while since we did this show, but we're back with what might be the best episode yet!\\\\nLeave your dares in the comment section! \\\\n\\\\nOrder my book how to write good \\\\nhttp://higatv.com/ryan-higas-how-to-write-good-pre-order-links/\\\\n\\\\nJust Launched New Official Store\\\\nhttps://www.gianthugs.com/collections/ryan\\\\n\\\\nHigaTV Channel\\\\nhttp://www.youtube.com/higatv\\\\n\\\\nTwitter\\\\nhttp://www.twitter.com/therealryanhiga\\\\n\\\\nFacebook\\\\nhttp://www.facebook.com/higatv\\\\n\\\\nWebsite\\\\nhttp://www.higatv.com\\\\n\\\\nInstagram\\\\nhttp://www.instagram.com/notryanhiga\\\\n\\\\nSend us mail or whatever you want here!\\\\nPO Box 232355\\\\nLas Vegas, NV 89105                                                                                                                                                                                                                                                                                                                                                                                                                                                                                                                                                                                                                                                        \n",
       "5 🎧: https://ad.gt/yt-perfect\\\\n💰: https://atlanti.cr/yt-album\\\\nSubscribe to Ed's channel: http://bit.ly/SubscribeToEdSheeran\\\\n\\\\nFollow Ed on...\\\\nFacebook: http://www.facebook.com/EdSheeranMusic\\\\nTwitter: http://twitter.com/edsheeran\\\\nInstagram: http://instagram.com/teddysphotos\\\\nOfficial Website: http://edsheeran.com\\\\n\\\\nDirector: Jason Koenig\\\\nProducer: Honna Kimmerer\\\\nStarring: Ed Sheeran & Zoey Deutch \\\\nDirector of Photography: Johnny Valencia\\\\nProduction Company: Anonymous Content\\\\nExec Producer: Nina Soriano\\\\nProduction Manager: Doug Hoff\\\\nCommissioner: Dan Curwin\\\\nProduction Designer: John Lavin\\\\nLead Casting: Amy Hubbard \\\\n \\\\nWritten by: Jason Koenig, Ed Sheeran, Andrew Kolvet, Jenny Koenig, Murray Cummings\\\\n\\\\nEdited by: Jason Koenig & Johnny Valencia\\\\nVFX: Ian Hubert\\\\n\\\\nCast: Bo Valencia, Dennis Ranalta, Arthur Pauli\\\\n \\\\nSki Cinematography: Corey Koniniec\\\\nSpecialty Camera op: Ryan Haug\\\\n1st AC: Ryan Brown\\\\n \\\\n1st Assistant Director: Ole Zapatka\\\\nArt Director: Klaus Hartl\\\\nSnow fx: Lucien Stephenson\\\\n\\\\nGaffer: Thomas Berz\\\\nStylist: Claudia Lajda\\\\nHair & Makeup: Christel Thoresen\\\\nAustrian Casting: Ursula Kiplinger\\\\n \\\\nAdditional VFX: Zoic\\\\n\\\\nSpecial Thanks to: The Hintertux Glacier, Austria;\\\\nThe Tenne, and Hotel Neuhintertux\n",
       "6 ► Follow for News! - https://twitter.com/KEEMSTAR\\\\n\\\\n► Also follow #DramaAlert on:\\\\n⋆ Instagram: https://instagram.com/DramaAlert\\\\n⋆ Twitter: https://twitter.com/DramaAlert\\\\n⋆ Facebook: https://facebook.com/DramaAlert\\\\n\\\\n► Follow for livestreams! - https://twitch.tv/KEEMSTAR\\\\n\\\\n► KEEM Merch\\\\nhttp://keem.shirtz.cool\\\\n\\\\n► USE CODE (KEEM)\\\\nhttps://gfuel.com/pages/keemstar\\\\n\\\\nDollar in the Woods! (OUT NOW)\\\\n► iTunes\\\\nhttps://itunes.apple.com/us/album/dollar-in-the-woods-single/id1295414119https://itunes.apple.com/us/album/dollar-in-the-woods-single/id1295414119\\\\n\\\\n► Spotify \\\\nhttps://open.spotify.com/track/3uUHoKWqPbJ5qoREGbguC9?si=v4CgSBBR\\\\n\\\\n► YouTube (Music Video)\\\\nhttps://youtu.be/n38Qxi7TVWo\\\\n\\\\nAdpocalypse! (My New Game)\\\\n► Apple (iOS)\\\\nhttps://itunes.apple.com/us/app/the-adpocalypse/id1263621591\\\\n\\\\n► Android\\\\nhttps://play.google.com/store/apps/details?id=com.projectorgames.howtogetahead                                                                                                                                                                                                                                                                                                                                                                           "
      ]
     },
     "metadata": {},
     "output_type": "display_data"
    }
   ],
   "source": [
    "dataset<- read.csv(\"CAvideos.csv\")\n",
    "head(dataset)"
   ]
  },
  {
   "cell_type": "code",
   "execution_count": 4,
   "metadata": {},
   "outputs": [
    {
     "data": {
      "text/html": [
       "40881"
      ],
      "text/latex": [
       "40881"
      ],
      "text/markdown": [
       "40881"
      ],
      "text/plain": [
       "[1] 40881"
      ]
     },
     "metadata": {},
     "output_type": "display_data"
    }
   ],
   "source": [
    "#Number of records\n",
    "nrow(dataset)"
   ]
  },
  {
   "cell_type": "code",
   "execution_count": 4,
   "metadata": {},
   "outputs": [
    {
     "data": {
      "text/html": [
       "16"
      ],
      "text/latex": [
       "16"
      ],
      "text/markdown": [
       "16"
      ],
      "text/plain": [
       "[1] 16"
      ]
     },
     "metadata": {},
     "output_type": "display_data"
    }
   ],
   "source": [
    "#number of attributes\n",
    "ncol(dataset)"
   ]
  },
  {
   "cell_type": "code",
   "execution_count": 8,
   "metadata": {},
   "outputs": [
    {
     "data": {
      "text/html": [
       "24427"
      ],
      "text/latex": [
       "24427"
      ],
      "text/markdown": [
       "24427"
      ],
      "text/plain": [
       "[1] 24427"
      ]
     },
     "metadata": {},
     "output_type": "display_data"
    }
   ],
   "source": [
    "#total number of unique videos\n",
    "uniquevideos<- table(dataset$video_id)\n",
    "length(uniquevideos)"
   ]
  },
  {
   "cell_type": "code",
   "execution_count": 10,
   "metadata": {},
   "outputs": [
    {
     "data": {
      "text/html": [
       "24573"
      ],
      "text/latex": [
       "24573"
      ],
      "text/markdown": [
       "24573"
      ],
      "text/plain": [
       "[1] 24573"
      ]
     },
     "metadata": {},
     "output_type": "display_data"
    }
   ],
   "source": [
    "uniquetitles<- table(dataset$title)\n",
    "length(uniquetitles)"
   ]
  },
  {
   "cell_type": "code",
   "execution_count": 5,
   "metadata": {},
   "outputs": [
    {
     "data": {
      "text/html": [
       "<table>\n",
       "<caption>A data.frame: 40881 × 4</caption>\n",
       "<thead>\n",
       "\t<tr><th scope=col>views</th><th scope=col>likes</th><th scope=col>dislikes</th><th scope=col>comment_count</th></tr>\n",
       "\t<tr><th scope=col>&lt;int&gt;</th><th scope=col>&lt;int&gt;</th><th scope=col>&lt;int&gt;</th><th scope=col>&lt;int&gt;</th></tr>\n",
       "</thead>\n",
       "<tbody>\n",
       "\t<tr><td>17158579</td><td> 787425</td><td> 43420</td><td>125882</td></tr>\n",
       "\t<tr><td> 1014651</td><td> 127794</td><td>  1688</td><td> 13030</td></tr>\n",
       "\t<tr><td> 3191434</td><td> 146035</td><td>  5339</td><td>  8181</td></tr>\n",
       "\t<tr><td> 2095828</td><td> 132239</td><td>  1989</td><td> 17518</td></tr>\n",
       "\t<tr><td>33523622</td><td>1634130</td><td> 21082</td><td> 85067</td></tr>\n",
       "\t<tr><td> 1309699</td><td> 103755</td><td>  4613</td><td> 12143</td></tr>\n",
       "\t<tr><td> 2987945</td><td> 187464</td><td>  9850</td><td> 26629</td></tr>\n",
       "\t<tr><td>  748374</td><td>  57534</td><td>  2967</td><td> 15959</td></tr>\n",
       "\t<tr><td> 4477587</td><td> 292837</td><td>  4123</td><td> 36391</td></tr>\n",
       "\t<tr><td>  505161</td><td>   4135</td><td>   976</td><td>  1484</td></tr>\n",
       "\t<tr><td> 5068229</td><td> 263596</td><td>  8585</td><td> 28976</td></tr>\n",
       "\t<tr><td> 3153224</td><td>  28451</td><td>  2285</td><td>  3312</td></tr>\n",
       "\t<tr><td>  158815</td><td>    218</td><td>    30</td><td>   186</td></tr>\n",
       "\t<tr><td> 5718766</td><td> 127477</td><td>  7134</td><td>  8063</td></tr>\n",
       "\t<tr><td>  960747</td><td>  31810</td><td>   668</td><td>  5335</td></tr>\n",
       "\t<tr><td> 1531218</td><td>  53961</td><td>  1697</td><td>  4277</td></tr>\n",
       "\t<tr><td>  557883</td><td>  44558</td><td>   621</td><td>  9619</td></tr>\n",
       "\t<tr><td> 1496225</td><td>  16116</td><td>   236</td><td>   605</td></tr>\n",
       "\t<tr><td>  308568</td><td>  19541</td><td>    70</td><td>   495</td></tr>\n",
       "\t<tr><td> 1096327</td><td>  33966</td><td>   798</td><td>   882</td></tr>\n",
       "\t<tr><td>  817732</td><td>  23663</td><td>   778</td><td>  3432</td></tr>\n",
       "\t<tr><td>  343168</td><td>  10172</td><td>   666</td><td>  2146</td></tr>\n",
       "\t<tr><td> 3905245</td><td>  53072</td><td>  2437</td><td>  1979</td></tr>\n",
       "\t<tr><td> 4204818</td><td> 187890</td><td>167908</td><td> 77348</td></tr>\n",
       "\t<tr><td>  549374</td><td>  16832</td><td>   248</td><td>  3579</td></tr>\n",
       "\t<tr><td>  348841</td><td>  27089</td><td>   162</td><td>  2099</td></tr>\n",
       "\t<tr><td>  370827</td><td>  12150</td><td>   325</td><td>  2352</td></tr>\n",
       "\t<tr><td>  653398</td><td>  27773</td><td>  2778</td><td>  3976</td></tr>\n",
       "\t<tr><td>   92280</td><td>  11045</td><td>   182</td><td>  1412</td></tr>\n",
       "\t<tr><td>  178447</td><td>   4339</td><td>    96</td><td>   876</td></tr>\n",
       "\t<tr><td>⋮</td><td>⋮</td><td>⋮</td><td>⋮</td></tr>\n",
       "\t<tr><td> 1615246</td><td> 29693</td><td> 1145</td><td> 2749</td></tr>\n",
       "\t<tr><td>  266267</td><td>  5534</td><td>  311</td><td> 1030</td></tr>\n",
       "\t<tr><td>  950727</td><td> 38129</td><td>  926</td><td> 4213</td></tr>\n",
       "\t<tr><td>   94667</td><td>  5428</td><td>   59</td><td>  583</td></tr>\n",
       "\t<tr><td>   42908</td><td>  2757</td><td>  104</td><td>  280</td></tr>\n",
       "\t<tr><td>  109662</td><td>  7056</td><td>   42</td><td>  635</td></tr>\n",
       "\t<tr><td>16256855</td><td>321798</td><td>14006</td><td>20453</td></tr>\n",
       "\t<tr><td>  436795</td><td>  4758</td><td>  479</td><td> 2106</td></tr>\n",
       "\t<tr><td>  617135</td><td>  3438</td><td>  724</td><td> 2943</td></tr>\n",
       "\t<tr><td> 1780097</td><td> 11288</td><td> 1028</td><td> 1946</td></tr>\n",
       "\t<tr><td>  812832</td><td>  7701</td><td>  320</td><td> 2505</td></tr>\n",
       "\t<tr><td>  345870</td><td> 36481</td><td>  230</td><td> 2082</td></tr>\n",
       "\t<tr><td>  191974</td><td> 19681</td><td>   79</td><td> 3414</td></tr>\n",
       "\t<tr><td> 2557709</td><td> 65412</td><td> 2264</td><td>17165</td></tr>\n",
       "\t<tr><td> 1392609</td><td> 38471</td><td> 2932</td><td>21316</td></tr>\n",
       "\t<tr><td>  293765</td><td>  4722</td><td>  224</td><td>  229</td></tr>\n",
       "\t<tr><td>  104279</td><td>   718</td><td>   94</td><td>  218</td></tr>\n",
       "\t<tr><td>  793685</td><td> 30147</td><td>  762</td><td> 3620</td></tr>\n",
       "\t<tr><td>  168717</td><td> 16278</td><td>  165</td><td> 1702</td></tr>\n",
       "\t<tr><td>  362153</td><td>  5568</td><td>  173</td><td>  680</td></tr>\n",
       "\t<tr><td>  182184</td><td>  9710</td><td>  128</td><td> 1647</td></tr>\n",
       "\t<tr><td>  261128</td><td> 32078</td><td>   91</td><td> 2021</td></tr>\n",
       "\t<tr><td>  774509</td><td> 10250</td><td> 1246</td><td> 5516</td></tr>\n",
       "\t<tr><td>  505968</td><td> 28369</td><td>  434</td><td> 1270</td></tr>\n",
       "\t<tr><td>  201847</td><td>  1568</td><td>  407</td><td>  537</td></tr>\n",
       "\t<tr><td>   80685</td><td>  1701</td><td>   99</td><td> 1312</td></tr>\n",
       "\t<tr><td>  103339</td><td>   460</td><td>   66</td><td>   51</td></tr>\n",
       "\t<tr><td>  773347</td><td> 25900</td><td>  224</td><td> 3881</td></tr>\n",
       "\t<tr><td>  115225</td><td>  2115</td><td>  182</td><td> 1672</td></tr>\n",
       "\t<tr><td>  107392</td><td>   300</td><td>   62</td><td>  251</td></tr>\n",
       "</tbody>\n",
       "</table>\n"
      ],
      "text/latex": [
       "A data.frame: 40881 × 4\n",
       "\\begin{tabular}{llll}\n",
       " views & likes & dislikes & comment\\_count\\\\\n",
       " <int> & <int> & <int> & <int>\\\\\n",
       "\\hline\n",
       "\t 17158579 &  787425 &  43420 & 125882\\\\\n",
       "\t  1014651 &  127794 &   1688 &  13030\\\\\n",
       "\t  3191434 &  146035 &   5339 &   8181\\\\\n",
       "\t  2095828 &  132239 &   1989 &  17518\\\\\n",
       "\t 33523622 & 1634130 &  21082 &  85067\\\\\n",
       "\t  1309699 &  103755 &   4613 &  12143\\\\\n",
       "\t  2987945 &  187464 &   9850 &  26629\\\\\n",
       "\t   748374 &   57534 &   2967 &  15959\\\\\n",
       "\t  4477587 &  292837 &   4123 &  36391\\\\\n",
       "\t   505161 &    4135 &    976 &   1484\\\\\n",
       "\t  5068229 &  263596 &   8585 &  28976\\\\\n",
       "\t  3153224 &   28451 &   2285 &   3312\\\\\n",
       "\t   158815 &     218 &     30 &    186\\\\\n",
       "\t  5718766 &  127477 &   7134 &   8063\\\\\n",
       "\t   960747 &   31810 &    668 &   5335\\\\\n",
       "\t  1531218 &   53961 &   1697 &   4277\\\\\n",
       "\t   557883 &   44558 &    621 &   9619\\\\\n",
       "\t  1496225 &   16116 &    236 &    605\\\\\n",
       "\t   308568 &   19541 &     70 &    495\\\\\n",
       "\t  1096327 &   33966 &    798 &    882\\\\\n",
       "\t   817732 &   23663 &    778 &   3432\\\\\n",
       "\t   343168 &   10172 &    666 &   2146\\\\\n",
       "\t  3905245 &   53072 &   2437 &   1979\\\\\n",
       "\t  4204818 &  187890 & 167908 &  77348\\\\\n",
       "\t   549374 &   16832 &    248 &   3579\\\\\n",
       "\t   348841 &   27089 &    162 &   2099\\\\\n",
       "\t   370827 &   12150 &    325 &   2352\\\\\n",
       "\t   653398 &   27773 &   2778 &   3976\\\\\n",
       "\t    92280 &   11045 &    182 &   1412\\\\\n",
       "\t   178447 &    4339 &     96 &    876\\\\\n",
       "\t ⋮ & ⋮ & ⋮ & ⋮\\\\\n",
       "\t  1615246 &  29693 &  1145 &  2749\\\\\n",
       "\t   266267 &   5534 &   311 &  1030\\\\\n",
       "\t   950727 &  38129 &   926 &  4213\\\\\n",
       "\t    94667 &   5428 &    59 &   583\\\\\n",
       "\t    42908 &   2757 &   104 &   280\\\\\n",
       "\t   109662 &   7056 &    42 &   635\\\\\n",
       "\t 16256855 & 321798 & 14006 & 20453\\\\\n",
       "\t   436795 &   4758 &   479 &  2106\\\\\n",
       "\t   617135 &   3438 &   724 &  2943\\\\\n",
       "\t  1780097 &  11288 &  1028 &  1946\\\\\n",
       "\t   812832 &   7701 &   320 &  2505\\\\\n",
       "\t   345870 &  36481 &   230 &  2082\\\\\n",
       "\t   191974 &  19681 &    79 &  3414\\\\\n",
       "\t  2557709 &  65412 &  2264 & 17165\\\\\n",
       "\t  1392609 &  38471 &  2932 & 21316\\\\\n",
       "\t   293765 &   4722 &   224 &   229\\\\\n",
       "\t   104279 &    718 &    94 &   218\\\\\n",
       "\t   793685 &  30147 &   762 &  3620\\\\\n",
       "\t   168717 &  16278 &   165 &  1702\\\\\n",
       "\t   362153 &   5568 &   173 &   680\\\\\n",
       "\t   182184 &   9710 &   128 &  1647\\\\\n",
       "\t   261128 &  32078 &    91 &  2021\\\\\n",
       "\t   774509 &  10250 &  1246 &  5516\\\\\n",
       "\t   505968 &  28369 &   434 &  1270\\\\\n",
       "\t   201847 &   1568 &   407 &   537\\\\\n",
       "\t    80685 &   1701 &    99 &  1312\\\\\n",
       "\t   103339 &    460 &    66 &    51\\\\\n",
       "\t   773347 &  25900 &   224 &  3881\\\\\n",
       "\t   115225 &   2115 &   182 &  1672\\\\\n",
       "\t   107392 &    300 &    62 &   251\\\\\n",
       "\\end{tabular}\n"
      ],
      "text/markdown": [
       "\n",
       "A data.frame: 40881 × 4\n",
       "\n",
       "| views &lt;int&gt; | likes &lt;int&gt; | dislikes &lt;int&gt; | comment_count &lt;int&gt; |\n",
       "|---|---|---|---|\n",
       "| 17158579 |  787425 |  43420 | 125882 |\n",
       "|  1014651 |  127794 |   1688 |  13030 |\n",
       "|  3191434 |  146035 |   5339 |   8181 |\n",
       "|  2095828 |  132239 |   1989 |  17518 |\n",
       "| 33523622 | 1634130 |  21082 |  85067 |\n",
       "|  1309699 |  103755 |   4613 |  12143 |\n",
       "|  2987945 |  187464 |   9850 |  26629 |\n",
       "|   748374 |   57534 |   2967 |  15959 |\n",
       "|  4477587 |  292837 |   4123 |  36391 |\n",
       "|   505161 |    4135 |    976 |   1484 |\n",
       "|  5068229 |  263596 |   8585 |  28976 |\n",
       "|  3153224 |   28451 |   2285 |   3312 |\n",
       "|   158815 |     218 |     30 |    186 |\n",
       "|  5718766 |  127477 |   7134 |   8063 |\n",
       "|   960747 |   31810 |    668 |   5335 |\n",
       "|  1531218 |   53961 |   1697 |   4277 |\n",
       "|   557883 |   44558 |    621 |   9619 |\n",
       "|  1496225 |   16116 |    236 |    605 |\n",
       "|   308568 |   19541 |     70 |    495 |\n",
       "|  1096327 |   33966 |    798 |    882 |\n",
       "|   817732 |   23663 |    778 |   3432 |\n",
       "|   343168 |   10172 |    666 |   2146 |\n",
       "|  3905245 |   53072 |   2437 |   1979 |\n",
       "|  4204818 |  187890 | 167908 |  77348 |\n",
       "|   549374 |   16832 |    248 |   3579 |\n",
       "|   348841 |   27089 |    162 |   2099 |\n",
       "|   370827 |   12150 |    325 |   2352 |\n",
       "|   653398 |   27773 |   2778 |   3976 |\n",
       "|    92280 |   11045 |    182 |   1412 |\n",
       "|   178447 |    4339 |     96 |    876 |\n",
       "| ⋮ | ⋮ | ⋮ | ⋮ |\n",
       "|  1615246 |  29693 |  1145 |  2749 |\n",
       "|   266267 |   5534 |   311 |  1030 |\n",
       "|   950727 |  38129 |   926 |  4213 |\n",
       "|    94667 |   5428 |    59 |   583 |\n",
       "|    42908 |   2757 |   104 |   280 |\n",
       "|   109662 |   7056 |    42 |   635 |\n",
       "| 16256855 | 321798 | 14006 | 20453 |\n",
       "|   436795 |   4758 |   479 |  2106 |\n",
       "|   617135 |   3438 |   724 |  2943 |\n",
       "|  1780097 |  11288 |  1028 |  1946 |\n",
       "|   812832 |   7701 |   320 |  2505 |\n",
       "|   345870 |  36481 |   230 |  2082 |\n",
       "|   191974 |  19681 |    79 |  3414 |\n",
       "|  2557709 |  65412 |  2264 | 17165 |\n",
       "|  1392609 |  38471 |  2932 | 21316 |\n",
       "|   293765 |   4722 |   224 |   229 |\n",
       "|   104279 |    718 |    94 |   218 |\n",
       "|   793685 |  30147 |   762 |  3620 |\n",
       "|   168717 |  16278 |   165 |  1702 |\n",
       "|   362153 |   5568 |   173 |   680 |\n",
       "|   182184 |   9710 |   128 |  1647 |\n",
       "|   261128 |  32078 |    91 |  2021 |\n",
       "|   774509 |  10250 |  1246 |  5516 |\n",
       "|   505968 |  28369 |   434 |  1270 |\n",
       "|   201847 |   1568 |   407 |   537 |\n",
       "|    80685 |   1701 |    99 |  1312 |\n",
       "|   103339 |    460 |    66 |    51 |\n",
       "|   773347 |  25900 |   224 |  3881 |\n",
       "|   115225 |   2115 |   182 |  1672 |\n",
       "|   107392 |    300 |    62 |   251 |\n",
       "\n"
      ],
      "text/plain": [
       "      views    likes   dislikes comment_count\n",
       "1     17158579  787425  43420   125882       \n",
       "2      1014651  127794   1688    13030       \n",
       "3      3191434  146035   5339     8181       \n",
       "4      2095828  132239   1989    17518       \n",
       "5     33523622 1634130  21082    85067       \n",
       "6      1309699  103755   4613    12143       \n",
       "7      2987945  187464   9850    26629       \n",
       "8       748374   57534   2967    15959       \n",
       "9      4477587  292837   4123    36391       \n",
       "10      505161    4135    976     1484       \n",
       "11     5068229  263596   8585    28976       \n",
       "12     3153224   28451   2285     3312       \n",
       "13      158815     218     30      186       \n",
       "14     5718766  127477   7134     8063       \n",
       "15      960747   31810    668     5335       \n",
       "16     1531218   53961   1697     4277       \n",
       "17      557883   44558    621     9619       \n",
       "18     1496225   16116    236      605       \n",
       "19      308568   19541     70      495       \n",
       "20     1096327   33966    798      882       \n",
       "21      817732   23663    778     3432       \n",
       "22      343168   10172    666     2146       \n",
       "23     3905245   53072   2437     1979       \n",
       "24     4204818  187890 167908    77348       \n",
       "25      549374   16832    248     3579       \n",
       "26      348841   27089    162     2099       \n",
       "27      370827   12150    325     2352       \n",
       "28      653398   27773   2778     3976       \n",
       "29       92280   11045    182     1412       \n",
       "30      178447    4339     96      876       \n",
       "⋮     ⋮        ⋮       ⋮        ⋮            \n",
       "40852  1615246  29693   1145     2749        \n",
       "40853   266267   5534    311     1030        \n",
       "40854   950727  38129    926     4213        \n",
       "40855    94667   5428     59      583        \n",
       "40856    42908   2757    104      280        \n",
       "40857   109662   7056     42      635        \n",
       "40858 16256855 321798  14006    20453        \n",
       "40859   436795   4758    479     2106        \n",
       "40860   617135   3438    724     2943        \n",
       "40861  1780097  11288   1028     1946        \n",
       "40862   812832   7701    320     2505        \n",
       "40863   345870  36481    230     2082        \n",
       "40864   191974  19681     79     3414        \n",
       "40865  2557709  65412   2264    17165        \n",
       "40866  1392609  38471   2932    21316        \n",
       "40867   293765   4722    224      229        \n",
       "40868   104279    718     94      218        \n",
       "40869   793685  30147    762     3620        \n",
       "40870   168717  16278    165     1702        \n",
       "40871   362153   5568    173      680        \n",
       "40872   182184   9710    128     1647        \n",
       "40873   261128  32078     91     2021        \n",
       "40874   774509  10250   1246     5516        \n",
       "40875   505968  28369    434     1270        \n",
       "40876   201847   1568    407      537        \n",
       "40877    80685   1701     99     1312        \n",
       "40878   103339    460     66       51        \n",
       "40879   773347  25900    224     3881        \n",
       "40880   115225   2115    182     1672        \n",
       "40881   107392    300     62      251        "
      ]
     },
     "metadata": {},
     "output_type": "display_data"
    }
   ],
   "source": [
    "# list of useful columns in datasets\n",
    "#cols <- c(1, 4:8, 10) --> select diff columns\n",
    "#df[,cols]\n",
    "cols <- c(8:11)\n",
    "dataset[,cols]"
   ]
  },
  {
   "cell_type": "code",
   "execution_count": 6,
   "metadata": {},
   "outputs": [
    {
     "ename": "ERROR",
     "evalue": "Error in heatmap(cols, scale = \"none\"): 'x' must be a numeric matrix\n",
     "output_type": "error",
     "traceback": [
      "Error in heatmap(cols, scale = \"none\"): 'x' must be a numeric matrix\nTraceback:\n",
      "1. heatmap(cols, scale = \"none\")",
      "2. stop(\"'x' must be a numeric matrix\")"
     ]
    }
   ],
   "source": [
    "heatmap(cols, scale = \"none\")"
   ]
  },
  {
   "cell_type": "code",
   "execution_count": 8,
   "metadata": {},
   "outputs": [
    {
     "name": "stdout",
     "output_type": "stream",
     "text": [
      "[1] \"integer\"\n"
     ]
    }
   ],
   "source": [
    "print(class(dataset$views))"
   ]
  },
  {
   "cell_type": "code",
   "execution_count": 9,
   "metadata": {},
   "outputs": [
    {
     "name": "stderr",
     "output_type": "stream",
     "text": [
      "── \u001b[1mAttaching packages\u001b[22m ─────────────────────────────────────── tidyverse 1.3.0 ──\n",
      "\n",
      "\u001b[32m✔\u001b[39m \u001b[34mggplot2\u001b[39m 3.3.1     \u001b[32m✔\u001b[39m \u001b[34mpurrr  \u001b[39m 0.3.4\n",
      "\u001b[32m✔\u001b[39m \u001b[34mtibble \u001b[39m 3.0.1     \u001b[32m✔\u001b[39m \u001b[34mdplyr  \u001b[39m 1.0.0\n",
      "\u001b[32m✔\u001b[39m \u001b[34mtidyr  \u001b[39m 1.1.0     \u001b[32m✔\u001b[39m \u001b[34mstringr\u001b[39m 1.4.0\n",
      "\u001b[32m✔\u001b[39m \u001b[34mreadr  \u001b[39m 1.3.1     \u001b[32m✔\u001b[39m \u001b[34mforcats\u001b[39m 0.5.0\n",
      "\n",
      "── \u001b[1mConflicts\u001b[22m ────────────────────────────────────────── tidyverse_conflicts() ──\n",
      "\u001b[31m✖\u001b[39m \u001b[34mdplyr\u001b[39m::\u001b[32mfilter()\u001b[39m masks \u001b[34mstats\u001b[39m::filter()\n",
      "\u001b[31m✖\u001b[39m \u001b[34mdplyr\u001b[39m::\u001b[32mlag()\u001b[39m    masks \u001b[34mstats\u001b[39m::lag()\n",
      "\n"
     ]
    }
   ],
   "source": [
    "library(tidyverse)\n"
   ]
  },
  {
   "cell_type": "code",
   "execution_count": 10,
   "metadata": {},
   "outputs": [],
   "source": [
    "selected_cols <- dataset %>% select(views,likes,dislikes, comment_count)\n",
    "\n",
    "corr <- round(cor(selected_cols), 2)"
   ]
  },
  {
   "cell_type": "code",
   "execution_count": 11,
   "metadata": {},
   "outputs": [
    {
     "ename": "ERROR",
     "evalue": "Error in library(corrplot): there is no package called ‘corrplot’\n",
     "output_type": "error",
     "traceback": [
      "Error in library(corrplot): there is no package called ‘corrplot’\nTraceback:\n",
      "1. library(corrplot)"
     ]
    }
   ],
   "source": [
    "#https://cran.r-project.org/web/packages/corrplot/vignettes/corrplot-intro.html\n",
    "library(corrplot)\n",
    "corrplot.mixed(corr = cor(dataset[,c(\"category_id\",\"views\",\"likes\",\"dislikes\",\"comment_count\"),with=F]))"
   ]
  },
  {
   "cell_type": "code",
   "execution_count": 12,
   "metadata": {},
   "outputs": [
    {
     "name": "stderr",
     "output_type": "stream",
     "text": [
      "Updating HTML index of packages in '.Library'\n",
      "\n",
      "Making 'packages.html' ...\n",
      " done\n",
      "\n"
     ]
    }
   ],
   "source": [
    "install.packages(\"ggcorrplot\")"
   ]
  },
  {
   "cell_type": "code",
   "execution_count": 13,
   "metadata": {},
   "outputs": [],
   "source": [
    "library(ggcorrplot)"
   ]
  },
  {
   "cell_type": "code",
   "execution_count": 14,
   "metadata": {},
   "outputs": [
    {
     "data": {
      "image/png": "[encoded data removed]",
      "text/plain": [
       "plot without title"
      ]
     },
     "metadata": {
      "image/png": {
       "height": 420,
       "width": 420
      },
      "text/plain": {
       "height": 420,
       "width": 420
      }
     },
     "output_type": "display_data"
    }
   ],
   "source": [
    "ggcorrplot(corr, method = \"square\", \n",
    "           ggtheme = ggplot2::theme_minimal,\n",
    "           type = \"lower\",\n",
    "           title = \"Correlations between views, likes, dislikes and commount count\",\n",
    "           outline.col = \"black\",\n",
    "           colors = c(\"blue\",\"white\", \"red\"),\n",
    "           lab = TRUE,\n",
    "           digits = 2)"
   ]
  },
  {
   "cell_type": "code",
   "execution_count": null,
   "metadata": {},
   "outputs": [],
   "source": []
  }
 ],
 "metadata": {
  "kernelspec": {
   "display_name": "R",
   "language": "R",
   "name": "ir"
  },
  "language_info": {
   "codemirror_mode": "r",
   "file_extension": ".r",
   "mimetype": "text/x-r-source",
   "name": "R",
   "pygments_lexer": "r",
   "version": "3.6.3"
  }
 },
 "nbformat": 4,
 "nbformat_minor": 4
}
