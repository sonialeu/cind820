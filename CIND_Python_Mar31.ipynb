{
 "cells": [
  {
   "cell_type": "markdown",
   "metadata": {},
   "source": [
    "Import libraries"
   ]
  },
  {
   "cell_type": "code",
   "execution_count": 1,
   "metadata": {},
   "outputs": [],
   "source": [
    "import pandas as pd\n",
    "import matplotlib.pyplot as plt\n",
    "plt.style.use('fivethirtyeight')\n",
    "import seaborn as sns\n",
    "import numpy as np\n",
    "import matplotlib.pyplot as plt"
   ]
  },
  {
   "cell_type": "code",
   "execution_count": 2,
   "metadata": {},
   "outputs": [],
   "source": [
    "videos = pd.read_csv(\"df1.csv\")"
   ]
  },
  {
   "cell_type": "code",
   "execution_count": 3,
   "metadata": {},
   "outputs": [
    {
     "data": {
      "text/html": [
       "<div>\n",
       "<style scoped>\n",
       "    .dataframe tbody tr th:only-of-type {\n",
       "        vertical-align: middle;\n",
       "    }\n",
       "\n",
       "    .dataframe tbody tr th {\n",
       "        vertical-align: top;\n",
       "    }\n",
       "\n",
       "    .dataframe thead th {\n",
       "        text-align: right;\n",
       "    }\n",
       "</style>\n",
       "<table border=\"1\" class=\"dataframe\">\n",
       "  <thead>\n",
       "    <tr style=\"text-align: right;\">\n",
       "      <th></th>\n",
       "      <th>Unnamed: 0</th>\n",
       "      <th>category_id</th>\n",
       "      <th>views</th>\n",
       "      <th>likes</th>\n",
       "      <th>dislikes</th>\n",
       "      <th>comment_count</th>\n",
       "    </tr>\n",
       "  </thead>\n",
       "  <tbody>\n",
       "    <tr>\n",
       "      <th>count</th>\n",
       "      <td>1000.000000</td>\n",
       "      <td>1000.000000</td>\n",
       "      <td>1.000000e+03</td>\n",
       "      <td>1.000000e+03</td>\n",
       "      <td>1.000000e+03</td>\n",
       "      <td>1.000000e+03</td>\n",
       "    </tr>\n",
       "    <tr>\n",
       "      <th>mean</th>\n",
       "      <td>21972.742000</td>\n",
       "      <td>17.247000</td>\n",
       "      <td>8.636547e+06</td>\n",
       "      <td>2.644025e+05</td>\n",
       "      <td>1.582910e+04</td>\n",
       "      <td>2.869586e+04</td>\n",
       "    </tr>\n",
       "    <tr>\n",
       "      <th>std</th>\n",
       "      <td>11909.230983</td>\n",
       "      <td>7.732385</td>\n",
       "      <td>9.691270e+06</td>\n",
       "      <td>3.750684e+05</td>\n",
       "      <td>5.856614e+04</td>\n",
       "      <td>6.367129e+04</td>\n",
       "    </tr>\n",
       "    <tr>\n",
       "      <th>min</th>\n",
       "      <td>14.000000</td>\n",
       "      <td>1.000000</td>\n",
       "      <td>3.409696e+06</td>\n",
       "      <td>0.000000e+00</td>\n",
       "      <td>0.000000e+00</td>\n",
       "      <td>0.000000e+00</td>\n",
       "    </tr>\n",
       "    <tr>\n",
       "      <th>25%</th>\n",
       "      <td>11782.500000</td>\n",
       "      <td>10.000000</td>\n",
       "      <td>4.116269e+06</td>\n",
       "      <td>6.945800e+04</td>\n",
       "      <td>3.324500e+03</td>\n",
       "      <td>5.576000e+03</td>\n",
       "    </tr>\n",
       "    <tr>\n",
       "      <th>50%</th>\n",
       "      <td>22349.000000</td>\n",
       "      <td>22.000000</td>\n",
       "      <td>5.336080e+06</td>\n",
       "      <td>1.680180e+05</td>\n",
       "      <td>6.446000e+03</td>\n",
       "      <td>1.394100e+04</td>\n",
       "    </tr>\n",
       "    <tr>\n",
       "      <th>75%</th>\n",
       "      <td>32700.250000</td>\n",
       "      <td>24.000000</td>\n",
       "      <td>9.099658e+06</td>\n",
       "      <td>3.179028e+05</td>\n",
       "      <td>1.309775e+04</td>\n",
       "      <td>3.147450e+04</td>\n",
       "    </tr>\n",
       "    <tr>\n",
       "      <th>max</th>\n",
       "      <td>40858.000000</td>\n",
       "      <td>30.000000</td>\n",
       "      <td>1.378431e+08</td>\n",
       "      <td>5.053338e+06</td>\n",
       "      <td>1.602383e+06</td>\n",
       "      <td>1.114800e+06</td>\n",
       "    </tr>\n",
       "  </tbody>\n",
       "</table>\n",
       "</div>"
      ],
      "text/plain": [
       "         Unnamed: 0  category_id         views         likes      dislikes  \\\n",
       "count   1000.000000  1000.000000  1.000000e+03  1.000000e+03  1.000000e+03   \n",
       "mean   21972.742000    17.247000  8.636547e+06  2.644025e+05  1.582910e+04   \n",
       "std    11909.230983     7.732385  9.691270e+06  3.750684e+05  5.856614e+04   \n",
       "min       14.000000     1.000000  3.409696e+06  0.000000e+00  0.000000e+00   \n",
       "25%    11782.500000    10.000000  4.116269e+06  6.945800e+04  3.324500e+03   \n",
       "50%    22349.000000    22.000000  5.336080e+06  1.680180e+05  6.446000e+03   \n",
       "75%    32700.250000    24.000000  9.099658e+06  3.179028e+05  1.309775e+04   \n",
       "max    40858.000000    30.000000  1.378431e+08  5.053338e+06  1.602383e+06   \n",
       "\n",
       "       comment_count  \n",
       "count   1.000000e+03  \n",
       "mean    2.869586e+04  \n",
       "std     6.367129e+04  \n",
       "min     0.000000e+00  \n",
       "25%     5.576000e+03  \n",
       "50%     1.394100e+04  \n",
       "75%     3.147450e+04  \n",
       "max     1.114800e+06  "
      ]
     },
     "execution_count": 3,
     "metadata": {},
     "output_type": "execute_result"
    }
   ],
   "source": [
    "videos.describe()"
   ]
  },
  {
   "cell_type": "code",
   "execution_count": 12,
   "metadata": {},
   "outputs": [
    {
     "data": {
      "text/html": [
       "<div>\n",
       "<style scoped>\n",
       "    .dataframe tbody tr th:only-of-type {\n",
       "        vertical-align: middle;\n",
       "    }\n",
       "\n",
       "    .dataframe tbody tr th {\n",
       "        vertical-align: top;\n",
       "    }\n",
       "\n",
       "    .dataframe thead th {\n",
       "        text-align: right;\n",
       "    }\n",
       "</style>\n",
       "<table border=\"1\" class=\"dataframe\">\n",
       "  <thead>\n",
       "    <tr style=\"text-align: right;\">\n",
       "      <th></th>\n",
       "      <th>Unnamed: 0</th>\n",
       "      <th>video_id</th>\n",
       "      <th>trending_date</th>\n",
       "      <th>title</th>\n",
       "      <th>channel_title</th>\n",
       "      <th>category_id</th>\n",
       "      <th>publish_time</th>\n",
       "      <th>tags</th>\n",
       "      <th>views</th>\n",
       "      <th>likes</th>\n",
       "      <th>dislikes</th>\n",
       "      <th>comment_count</th>\n",
       "      <th>description</th>\n",
       "    </tr>\n",
       "  </thead>\n",
       "  <tbody>\n",
       "    <tr>\n",
       "      <th>0</th>\n",
       "      <td>5901</td>\n",
       "      <td>FlsCjmMhFmw</td>\n",
       "      <td>2017-12-13</td>\n",
       "      <td>youtube rewind  shape  youtuberewind</td>\n",
       "      <td>youtube spotlight</td>\n",
       "      <td>24</td>\n",
       "      <td>2017-12-06 17:58:51</td>\n",
       "      <td>rewind rewind youtube rewind youtuberewind rew...</td>\n",
       "      <td>137843120</td>\n",
       "      <td>3014479</td>\n",
       "      <td>1602383</td>\n",
       "      <td>817582</td>\n",
       "      <td>youtube rewind celebrating  videos people musi...</td>\n",
       "    </tr>\n",
       "    <tr>\n",
       "      <th>1</th>\n",
       "      <td>34362</td>\n",
       "      <td>VYOjWnS4cMY</td>\n",
       "      <td>2018-05-13</td>\n",
       "      <td>childish gambino   america official video</td>\n",
       "      <td>childishgambinovevo</td>\n",
       "      <td>10</td>\n",
       "      <td>2018-05-06 04:00:07</td>\n",
       "      <td>childish gambino rap america mcdj recording rc...</td>\n",
       "      <td>98938809</td>\n",
       "      <td>3037318</td>\n",
       "      <td>161813</td>\n",
       "      <td>319502</td>\n",
       "      <td>america childish gambino</td>\n",
       "    </tr>\n",
       "    <tr>\n",
       "      <th>2</th>\n",
       "      <td>4700</td>\n",
       "      <td>6ZfuNTqbHE8</td>\n",
       "      <td>2017-12-07</td>\n",
       "      <td>marvel studios avengers infinity war official ...</td>\n",
       "      <td>marvel entertainment</td>\n",
       "      <td>24</td>\n",
       "      <td>2017-11-29 13:26:24</td>\n",
       "      <td>marvel comics comic books nerdy geeky super he...</td>\n",
       "      <td>89930713</td>\n",
       "      <td>2606665</td>\n",
       "      <td>53011</td>\n",
       "      <td>347982</td>\n",
       "      <td>idea avengers infinity war theaters may  sub...</td>\n",
       "    </tr>\n",
       "  </tbody>\n",
       "</table>\n",
       "</div>"
      ],
      "text/plain": [
       "   Unnamed: 0     video_id trending_date  \\\n",
       "0        5901  FlsCjmMhFmw    2017-12-13   \n",
       "1       34362  VYOjWnS4cMY    2018-05-13   \n",
       "2        4700  6ZfuNTqbHE8    2017-12-07   \n",
       "\n",
       "                                               title         channel_title  \\\n",
       "0               youtube rewind  shape  youtuberewind     youtube spotlight   \n",
       "1         childish gambino   america official video    childishgambinovevo   \n",
       "2  marvel studios avengers infinity war official ...  marvel entertainment   \n",
       "\n",
       "   category_id         publish_time  \\\n",
       "0           24  2017-12-06 17:58:51   \n",
       "1           10  2018-05-06 04:00:07   \n",
       "2           24  2017-11-29 13:26:24   \n",
       "\n",
       "                                                tags      views    likes  \\\n",
       "0  rewind rewind youtube rewind youtuberewind rew...  137843120  3014479   \n",
       "1  childish gambino rap america mcdj recording rc...   98938809  3037318   \n",
       "2  marvel comics comic books nerdy geeky super he...   89930713  2606665   \n",
       "\n",
       "   dislikes  comment_count                                        description  \n",
       "0   1602383         817582  youtube rewind celebrating  videos people musi...  \n",
       "1    161813         319502                           america childish gambino  \n",
       "2     53011         347982    idea avengers infinity war theaters may  sub...  "
      ]
     },
     "execution_count": 12,
     "metadata": {},
     "output_type": "execute_result"
    }
   ],
   "source": [
    "videos.head(3)"
   ]
  },
  {
   "cell_type": "code",
   "execution_count": 13,
   "metadata": {},
   "outputs": [],
   "source": [
    "#1 Content based recommender using similar tags"
   ]
  },
  {
   "cell_type": "code",
   "execution_count": 14,
   "metadata": {},
   "outputs": [
    {
     "data": {
      "text/plain": [
       "0    rewind rewind youtube rewind youtuberewind rew...\n",
       "1    childish gambino rap america mcdj recording rc...\n",
       "2    marvel comics comic books nerdy geeky super he...\n",
       "3    bighit bts bangtan fake love fake love fake love \n",
       "4    bad bunny amorfoda dura daddy yankee ozuna rom...\n",
       "Name: tags, dtype: object"
      ]
     },
     "execution_count": 14,
     "metadata": {},
     "output_type": "execute_result"
    }
   ],
   "source": [
    "videos['tags'].head()"
   ]
  },
  {
   "cell_type": "code",
   "execution_count": 15,
   "metadata": {},
   "outputs": [],
   "source": [
    "from sklearn.feature_extraction.text import TfidfVectorizer"
   ]
  },
  {
   "cell_type": "code",
   "execution_count": 16,
   "metadata": {},
   "outputs": [],
   "source": [
    "#Define a TF-IDF Vectorizer Object. Remove all english stop words\n",
    "tfidf = TfidfVectorizer(stop_words='english')"
   ]
  },
  {
   "cell_type": "code",
   "execution_count": 17,
   "metadata": {},
   "outputs": [],
   "source": [
    "#Replace NaN with an empty string\n",
    "videos['tags'] = videos['tags'].fillna('')"
   ]
  },
  {
   "cell_type": "code",
   "execution_count": 18,
   "metadata": {},
   "outputs": [
    {
     "data": {
      "text/plain": [
       "(1000, 6427)"
      ]
     },
     "execution_count": 18,
     "metadata": {},
     "output_type": "execute_result"
    }
   ],
   "source": [
    "#Construct the required TF-IDF matrix by fitting and transforming the data\n",
    "tfidf_matrix = tfidf.fit_transform(videos['tags'])\n",
    "\n",
    "#Output the shape of tfidf_matrix\n",
    "tfidf_matrix.shape"
   ]
  },
  {
   "cell_type": "code",
   "execution_count": 19,
   "metadata": {},
   "outputs": [],
   "source": [
    "#We can see that there are 6427 different words in the dataset of tags of 1000 YouTube videos"
   ]
  },
  {
   "cell_type": "code",
   "execution_count": 20,
   "metadata": {},
   "outputs": [
    {
     "data": {
      "text/plain": [
       "['fight',\n",
       " 'fighter',\n",
       " 'fighters',\n",
       " 'fights',\n",
       " 'filal',\n",
       " 'filet',\n",
       " 'filipino',\n",
       " 'film',\n",
       " 'films',\n",
       " 'filmselect']"
      ]
     },
     "execution_count": 20,
     "metadata": {},
     "output_type": "execute_result"
    }
   ],
   "source": [
    "#Array mapping from feature integer indices to feature name.\n",
    "tfidf.get_feature_names()[2000:2010]"
   ]
  },
  {
   "cell_type": "code",
   "execution_count": 21,
   "metadata": {},
   "outputs": [],
   "source": [
    "#select features\n",
    "features = ['title','channel_title','tags']"
   ]
  },
  {
   "cell_type": "code",
   "execution_count": 22,
   "metadata": {},
   "outputs": [],
   "source": [
    "# Define function to combine values of columns selected as features\n",
    "def combine_fs(row):\n",
    "    return row['title']+\" \"+row['channel_title']+\" \"+row['tags']"
   ]
  },
  {
   "cell_type": "code",
   "execution_count": 23,
   "metadata": {},
   "outputs": [],
   "source": [
    "#Combine selected features in one column\n",
    "videos[\"combined_fs\"] = videos.apply(combine_fs,axis=1)"
   ]
  },
  {
   "cell_type": "code",
   "execution_count": 24,
   "metadata": {},
   "outputs": [],
   "source": [
    "# Import linear_kernel\n",
    "from sklearn.metrics.pairwise import linear_kernel\n",
    "\n",
    "# Compute the cosine similarity matrix\n",
    "cosine_sim = linear_kernel(tfidf_matrix, tfidf_matrix)"
   ]
  },
  {
   "cell_type": "code",
   "execution_count": 25,
   "metadata": {},
   "outputs": [
    {
     "data": {
      "text/plain": [
       "(1000, 1000)"
      ]
     },
     "execution_count": 25,
     "metadata": {},
     "output_type": "execute_result"
    }
   ],
   "source": [
    "cosine_sim.shape"
   ]
  },
  {
   "cell_type": "code",
   "execution_count": 26,
   "metadata": {},
   "outputs": [],
   "source": [
    "indices = pd.Series(videos.index, index=videos['title']).drop_duplicates()"
   ]
  },
  {
   "cell_type": "code",
   "execution_count": 27,
   "metadata": {},
   "outputs": [
    {
     "data": {
      "text/plain": [
       "title\n",
       "youtube rewind  shape  youtuberewind                              0\n",
       "childish gambino   america official video                         1\n",
       "marvel studios avengers infinity war official trailer             2\n",
       "bts fake love official mv                                         3\n",
       "nicky jam x j balvin x equis video oficial prod afro bros jeon    4\n",
       "luis fonsi demi lovato chame la culpa                             5\n",
       "venom official trailer hd                                         6\n",
       "  daughter                                                        7\n",
       "maroon girls like  ft cardi b                                     8\n",
       "drake god s plan                                                  9\n",
       "dtype: int64"
      ]
     },
     "execution_count": 27,
     "metadata": {},
     "output_type": "execute_result"
    }
   ],
   "source": [
    "indices[:10]"
   ]
  },
  {
   "cell_type": "code",
   "execution_count": 31,
   "metadata": {},
   "outputs": [],
   "source": [
    "# Function that takes in video title as input and outputs most similar video suggestions\n",
    "def get_recommendations(title, cosine_sim=cosine_sim):\n",
    "    # Get the index of the movie that matches the title\n",
    "    idx = indices[title]\n",
    "\n",
    "    # Get the pairwsie similarity scores of all movies with that movie\n",
    "    sim_scores = list(enumerate(cosine_sim[idx]))\n",
    "\n",
    "    # Sort the videos based on the similarity scores\n",
    "    sim_scores = sorted(sim_scores, key=lambda x: x[1], reverse=True)\n",
    "\n",
    "    # Get the scores of the 5 most similar videos\n",
    "    sim_scores = sim_scores[1:6]\n",
    "\n",
    "    # Get the video indices\n",
    "    video_indices = [i[0] for i in sim_scores]\n",
    "\n",
    "    # Return the top 5 most similar videos\n",
    "    print(\"5 Recommended videos to *\"+title+\"* are:\\n\")\n",
    "    print(\"Ttitle|Channel Title\\n\")\n",
    "    for mii in video_indices:\n",
    "        print(videos['title'].iloc[mii] + \" | \"+ videos['channel_title'].iloc[mii])"
   ]
  },
  {
   "cell_type": "code",
   "execution_count": 30,
   "metadata": {},
   "outputs": [
    {
     "name": "stdout",
     "output_type": "stream",
     "text": [
      "5 Recommended movies to *drake god s plan* are:\n",
      "\n",
      "Ttitle|Channel Title\n",
      "\n",
      "drake god s plan official music video  | ovo sound\n",
      "drake lil baby yes indeed pikachu wshh exclusive official audio  | worldstarhiphop\n",
      "drake  m upset | ovo sound\n",
      "pusha t  story  adidon drake diss wshh exclusive official audio  | worldstarhiphop\n",
      "lil wayne family feud feat drake official audio dedication  | lil wayne\n"
     ]
    }
   ],
   "source": [
    "get_recommendations('drake god s plan')"
   ]
  },
  {
   "cell_type": "code",
   "execution_count": 25,
   "metadata": {},
   "outputs": [],
   "source": [
    "#Recommender system 2 using channel title and tags"
   ]
  },
  {
   "cell_type": "code",
   "execution_count": 26,
   "metadata": {},
   "outputs": [],
   "source": [
    "def create_soup(x):\n",
    "    return ''.join(x['tags']) + '' + ''.join(x['channel_title'])"
   ]
  },
  {
   "cell_type": "code",
   "execution_count": 27,
   "metadata": {},
   "outputs": [],
   "source": [
    "# Create a new soup feature\n",
    "videos['soup'] = videos.apply(create_soup, axis=1)"
   ]
  },
  {
   "cell_type": "code",
   "execution_count": 28,
   "metadata": {},
   "outputs": [
    {
     "data": {
      "text/html": [
       "<div>\n",
       "<style scoped>\n",
       "    .dataframe tbody tr th:only-of-type {\n",
       "        vertical-align: middle;\n",
       "    }\n",
       "\n",
       "    .dataframe tbody tr th {\n",
       "        vertical-align: top;\n",
       "    }\n",
       "\n",
       "    .dataframe thead th {\n",
       "        text-align: right;\n",
       "    }\n",
       "</style>\n",
       "<table border=\"1\" class=\"dataframe\">\n",
       "  <thead>\n",
       "    <tr style=\"text-align: right;\">\n",
       "      <th></th>\n",
       "      <th>soup</th>\n",
       "    </tr>\n",
       "  </thead>\n",
       "  <tbody>\n",
       "    <tr>\n",
       "      <th>0</th>\n",
       "      <td>rewind rewind youtube rewind youtuberewind rew...</td>\n",
       "    </tr>\n",
       "    <tr>\n",
       "      <th>1</th>\n",
       "      <td>childish gambino rap america mcdj recording rc...</td>\n",
       "    </tr>\n",
       "    <tr>\n",
       "      <th>2</th>\n",
       "      <td>marvel comics comic books nerdy geeky super he...</td>\n",
       "    </tr>\n",
       "    <tr>\n",
       "      <th>3</th>\n",
       "      <td>bighit bts bangtan fake love fake love fake lo...</td>\n",
       "    </tr>\n",
       "    <tr>\n",
       "      <th>4</th>\n",
       "      <td>bad bunny amorfoda dura daddy yankee ozuna rom...</td>\n",
       "    </tr>\n",
       "  </tbody>\n",
       "</table>\n",
       "</div>"
      ],
      "text/plain": [
       "                                                soup\n",
       "0  rewind rewind youtube rewind youtuberewind rew...\n",
       "1  childish gambino rap america mcdj recording rc...\n",
       "2  marvel comics comic books nerdy geeky super he...\n",
       "3  bighit bts bangtan fake love fake love fake lo...\n",
       "4  bad bunny amorfoda dura daddy yankee ozuna rom..."
      ]
     },
     "execution_count": 28,
     "metadata": {},
     "output_type": "execute_result"
    }
   ],
   "source": [
    "videos[['soup']].head(5)"
   ]
  },
  {
   "cell_type": "code",
   "execution_count": 29,
   "metadata": {},
   "outputs": [],
   "source": [
    "from sklearn.feature_extraction.text import CountVectorizer\n",
    "\n",
    "count = CountVectorizer(stop_words='english')\n",
    "count_matrix = count.fit_transform(videos['soup'])"
   ]
  },
  {
   "cell_type": "code",
   "execution_count": 30,
   "metadata": {},
   "outputs": [
    {
     "data": {
      "text/plain": [
       "(1000, 6607)"
      ]
     },
     "execution_count": 30,
     "metadata": {},
     "output_type": "execute_result"
    }
   ],
   "source": [
    "count_matrix.shape"
   ]
  },
  {
   "cell_type": "code",
   "execution_count": 31,
   "metadata": {},
   "outputs": [],
   "source": [
    "# Compute the Cosine Similarity matrix based on the count_matrix\n",
    "from sklearn.metrics.pairwise import cosine_similarity\n",
    "\n",
    "cosine_sim2 = cosine_similarity(count_matrix, count_matrix)"
   ]
  },
  {
   "cell_type": "code",
   "execution_count": 32,
   "metadata": {},
   "outputs": [],
   "source": [
    "# Reset index of your main DataFrame and construct reverse mapping as before\n",
    "videos = videos.reset_index()\n",
    "indices = pd.Series(videos.index, index=videos['title'])"
   ]
  },
  {
   "cell_type": "code",
   "execution_count": 33,
   "metadata": {},
   "outputs": [
    {
     "name": "stdout",
     "output_type": "stream",
     "text": [
      "5 Recommended movies to *drake god s plan* are:\n",
      "\n",
      "Ttitle|Channel Title\n",
      "\n",
      "drake god s plan official music video  | ovo sound\n",
      "drake  m upset | ovo sound\n",
      "drake lil baby yes indeed pikachu wshh exclusive official audio  | worldstarhiphop\n",
      "lil wayne family feud feat drake official audio dedication  | lil wayne\n",
      "pusha t  story  adidon drake diss wshh exclusive official audio  | worldstarhiphop\n"
     ]
    }
   ],
   "source": [
    "get_recommendations('drake god s plan', cosine_sim2)"
   ]
  },
  {
   "cell_type": "code",
   "execution_count": null,
   "metadata": {},
   "outputs": [],
   "source": [
    "#3 Recommender system using word2vec model from Google"
   ]
  },
  {
   "cell_type": "code",
   "execution_count": 59,
   "metadata": {},
   "outputs": [
    {
     "name": "stdout",
     "output_type": "stream",
     "text": [
      "--2021-03-29 06:56:18--  https://s3.amazonaws.com/dl4j-distribution/GoogleNews-vectors-negative300.bin.gz\n",
      "Resolving s3.amazonaws.com (s3.amazonaws.com)... 52.216.100.13\n",
      "Connecting to s3.amazonaws.com (s3.amazonaws.com)|52.216.100.13|:443... connected.\n",
      "HTTP request sent, awaiting response... 200 OK\n",
      "Length: 1647046227 (1.5G) [application/x-gzip]\n",
      "Saving to: ‘GoogleNews-vectors-negative300.bin.gz’\n",
      "\n",
      "GoogleNews-vectors- 100%[===================>]   1.53G  97.6MB/s    in 19s     \n",
      "\n",
      "2021-03-29 06:56:37 (84.0 MB/s) - ‘GoogleNews-vectors-negative300.bin.gz’ saved [1647046227/1647046227]\n",
      "\n",
      "gzip: GoogleNews-vectors-negative300.bin already exists; do you wish to overwrite (y or n)? ^C\n"
     ]
    }
   ],
   "source": [
    "!wget -c \"https://s3.amazonaws.com/dl4j-distribution/GoogleNews-vectors-negative300.bin.gz\"\n",
    "!gunzip GoogleNews-vectors-negative300.bin.gz"
   ]
  },
  {
   "cell_type": "code",
   "execution_count": 34,
   "metadata": {},
   "outputs": [
    {
     "name": "stdout",
     "output_type": "stream",
     "text": [
      "Collecting python-Levenshtein\n",
      "  Downloading python-Levenshtein-0.12.2.tar.gz (50 kB)\n",
      "\u001b[K     |████████████████████████████████| 50 kB 3.0 MB/s eta 0:00:011\n",
      "\u001b[?25hRequirement already satisfied: setuptools in /opt/conda/lib/python3.7/site-packages (from python-Levenshtein) (46.1.3.post20200325)\n",
      "Building wheels for collected packages: python-Levenshtein\n",
      "  Building wheel for python-Levenshtein (setup.py) ... \u001b[?25ldone\n",
      "\u001b[?25h  Created wheel for python-Levenshtein: filename=python_Levenshtein-0.12.2-cp37-cp37m-linux_x86_64.whl size=171564 sha256=71e4ef444d9f94827c81186db53b14eeddc3e7a1cbdbb4dbc1c223010c0c36bc\n",
      "  Stored in directory: /home/jovyan/.cache/pip/wheels/05/5f/ca/7c4367734892581bb5ff896f15027a932c551080b2abd3e00d\n",
      "Successfully built python-Levenshtein\n",
      "Installing collected packages: python-Levenshtein\n",
      "Successfully installed python-Levenshtein-0.12.2\n",
      "Note: you may need to restart the kernel to use updated packages.\n"
     ]
    }
   ],
   "source": [
    "pip install python-Levenshtein"
   ]
  },
  {
   "cell_type": "code",
   "execution_count": null,
   "metadata": {},
   "outputs": [
    {
     "name": "stdout",
     "output_type": "stream",
     "text": [
      "Requirement already up-to-date: gensim in /opt/conda/lib/python3.7/site-packages (4.0.0)\n",
      "Requirement already satisfied, skipping upgrade: scipy>=0.18.1 in /opt/conda/lib/python3.7/site-packages (from gensim) (1.4.1)\n",
      "Requirement already satisfied, skipping upgrade: numpy>=1.11.3 in /opt/conda/lib/python3.7/site-packages (from gensim) (1.18.4)\n",
      "Requirement already satisfied, skipping upgrade: smart-open>=1.8.1 in /opt/conda/lib/python3.7/site-packages (from gensim) (4.2.0)\n"
     ]
    }
   ],
   "source": [
    "!python -m pip install -U gensim\n",
    "import gensim\n",
    "\n",
    "wv = gensim.models.KeyedVectors.load_word2vec_format(\"GoogleNews-vectors-negative300.bin\", binary=True)"
   ]
  },
  {
   "cell_type": "code",
   "execution_count": 32,
   "metadata": {},
   "outputs": [
    {
     "ename": "NameError",
     "evalue": "name 'wv' is not defined",
     "output_type": "error",
     "traceback": [
      "\u001b[0;31m---------------------------------------------------------------------------\u001b[0m",
      "\u001b[0;31mNameError\u001b[0m                                 Traceback (most recent call last)",
      "\u001b[0;32m<ipython-input-32-910d16371eb1>\u001b[0m in \u001b[0;36m<module>\u001b[0;34m\u001b[0m\n\u001b[1;32m      1\u001b[0m \u001b[0mmatrix_youtube_vocab\u001b[0m \u001b[0;34m=\u001b[0m \u001b[0;34m[\u001b[0m\u001b[0;34m]\u001b[0m\u001b[0;34m\u001b[0m\u001b[0;34m\u001b[0m\u001b[0m\n\u001b[1;32m      2\u001b[0m \u001b[0;32mfor\u001b[0m \u001b[0mlist_\u001b[0m \u001b[0;32min\u001b[0m \u001b[0mvideos\u001b[0m\u001b[0;34m.\u001b[0m\u001b[0mto_numpy\u001b[0m\u001b[0;34m(\u001b[0m\u001b[0;34m)\u001b[0m\u001b[0;34m:\u001b[0m\u001b[0;34m\u001b[0m\u001b[0;34m\u001b[0m\u001b[0m\n\u001b[0;32m----> 3\u001b[0;31m     \u001b[0mlist_\u001b[0m\u001b[0;34m[\u001b[0m\u001b[0;36m2\u001b[0m\u001b[0;34m]\u001b[0m \u001b[0;34m=\u001b[0m \u001b[0;34m[\u001b[0m\u001b[0mword\u001b[0m \u001b[0;32mfor\u001b[0m \u001b[0mword\u001b[0m \u001b[0;32min\u001b[0m \u001b[0mlist_\u001b[0m\u001b[0;34m[\u001b[0m\u001b[0;36m2\u001b[0m\u001b[0;34m]\u001b[0m \u001b[0;32mif\u001b[0m \u001b[0mword\u001b[0m \u001b[0;32min\u001b[0m \u001b[0mwv\u001b[0m\u001b[0;34m.\u001b[0m\u001b[0mvocab\u001b[0m\u001b[0;34m]\u001b[0m\u001b[0;34m\u001b[0m\u001b[0;34m\u001b[0m\u001b[0m\n\u001b[0m\u001b[1;32m      4\u001b[0m     \u001b[0mlist_\u001b[0m\u001b[0;34m[\u001b[0m\u001b[0;36m3\u001b[0m\u001b[0;34m]\u001b[0m \u001b[0;34m=\u001b[0m \u001b[0;34m[\u001b[0m\u001b[0mword\u001b[0m \u001b[0;32mfor\u001b[0m \u001b[0mword\u001b[0m \u001b[0;32min\u001b[0m \u001b[0mlist_\u001b[0m\u001b[0;34m[\u001b[0m\u001b[0;36m3\u001b[0m\u001b[0;34m]\u001b[0m \u001b[0;32mif\u001b[0m \u001b[0mword\u001b[0m \u001b[0;32min\u001b[0m \u001b[0mwv\u001b[0m\u001b[0;34m.\u001b[0m\u001b[0mvocab\u001b[0m\u001b[0;34m]\u001b[0m\u001b[0;34m\u001b[0m\u001b[0;34m\u001b[0m\u001b[0m\n\u001b[1;32m      5\u001b[0m     \u001b[0mlist_\u001b[0m\u001b[0;34m[\u001b[0m\u001b[0;36m4\u001b[0m\u001b[0;34m]\u001b[0m \u001b[0;34m=\u001b[0m \u001b[0;34m[\u001b[0m\u001b[0mword\u001b[0m \u001b[0;32mfor\u001b[0m \u001b[0mword\u001b[0m \u001b[0;32min\u001b[0m \u001b[0mlist_\u001b[0m\u001b[0;34m[\u001b[0m\u001b[0;36m4\u001b[0m\u001b[0;34m]\u001b[0m \u001b[0;32mif\u001b[0m \u001b[0mword\u001b[0m \u001b[0;32min\u001b[0m \u001b[0mwv\u001b[0m\u001b[0;34m.\u001b[0m\u001b[0mvocab\u001b[0m\u001b[0;34m]\u001b[0m\u001b[0;34m\u001b[0m\u001b[0;34m\u001b[0m\u001b[0m\n",
      "\u001b[0;32m<ipython-input-32-910d16371eb1>\u001b[0m in \u001b[0;36m<listcomp>\u001b[0;34m(.0)\u001b[0m\n\u001b[1;32m      1\u001b[0m \u001b[0mmatrix_youtube_vocab\u001b[0m \u001b[0;34m=\u001b[0m \u001b[0;34m[\u001b[0m\u001b[0;34m]\u001b[0m\u001b[0;34m\u001b[0m\u001b[0;34m\u001b[0m\u001b[0m\n\u001b[1;32m      2\u001b[0m \u001b[0;32mfor\u001b[0m \u001b[0mlist_\u001b[0m \u001b[0;32min\u001b[0m \u001b[0mvideos\u001b[0m\u001b[0;34m.\u001b[0m\u001b[0mto_numpy\u001b[0m\u001b[0;34m(\u001b[0m\u001b[0;34m)\u001b[0m\u001b[0;34m:\u001b[0m\u001b[0;34m\u001b[0m\u001b[0;34m\u001b[0m\u001b[0m\n\u001b[0;32m----> 3\u001b[0;31m     \u001b[0mlist_\u001b[0m\u001b[0;34m[\u001b[0m\u001b[0;36m2\u001b[0m\u001b[0;34m]\u001b[0m \u001b[0;34m=\u001b[0m \u001b[0;34m[\u001b[0m\u001b[0mword\u001b[0m \u001b[0;32mfor\u001b[0m \u001b[0mword\u001b[0m \u001b[0;32min\u001b[0m \u001b[0mlist_\u001b[0m\u001b[0;34m[\u001b[0m\u001b[0;36m2\u001b[0m\u001b[0;34m]\u001b[0m \u001b[0;32mif\u001b[0m \u001b[0mword\u001b[0m \u001b[0;32min\u001b[0m \u001b[0mwv\u001b[0m\u001b[0;34m.\u001b[0m\u001b[0mvocab\u001b[0m\u001b[0;34m]\u001b[0m\u001b[0;34m\u001b[0m\u001b[0;34m\u001b[0m\u001b[0m\n\u001b[0m\u001b[1;32m      4\u001b[0m     \u001b[0mlist_\u001b[0m\u001b[0;34m[\u001b[0m\u001b[0;36m3\u001b[0m\u001b[0;34m]\u001b[0m \u001b[0;34m=\u001b[0m \u001b[0;34m[\u001b[0m\u001b[0mword\u001b[0m \u001b[0;32mfor\u001b[0m \u001b[0mword\u001b[0m \u001b[0;32min\u001b[0m \u001b[0mlist_\u001b[0m\u001b[0;34m[\u001b[0m\u001b[0;36m3\u001b[0m\u001b[0;34m]\u001b[0m \u001b[0;32mif\u001b[0m \u001b[0mword\u001b[0m \u001b[0;32min\u001b[0m \u001b[0mwv\u001b[0m\u001b[0;34m.\u001b[0m\u001b[0mvocab\u001b[0m\u001b[0;34m]\u001b[0m\u001b[0;34m\u001b[0m\u001b[0;34m\u001b[0m\u001b[0m\n\u001b[1;32m      5\u001b[0m     \u001b[0mlist_\u001b[0m\u001b[0;34m[\u001b[0m\u001b[0;36m4\u001b[0m\u001b[0;34m]\u001b[0m \u001b[0;34m=\u001b[0m \u001b[0;34m[\u001b[0m\u001b[0mword\u001b[0m \u001b[0;32mfor\u001b[0m \u001b[0mword\u001b[0m \u001b[0;32min\u001b[0m \u001b[0mlist_\u001b[0m\u001b[0;34m[\u001b[0m\u001b[0;36m4\u001b[0m\u001b[0;34m]\u001b[0m \u001b[0;32mif\u001b[0m \u001b[0mword\u001b[0m \u001b[0;32min\u001b[0m \u001b[0mwv\u001b[0m\u001b[0;34m.\u001b[0m\u001b[0mvocab\u001b[0m\u001b[0;34m]\u001b[0m\u001b[0;34m\u001b[0m\u001b[0;34m\u001b[0m\u001b[0m\n",
      "\u001b[0;31mNameError\u001b[0m: name 'wv' is not defined"
     ]
    }
   ],
   "source": [
    "matrix_youtube_vocab = []\n",
    "for list_ in videos.to_numpy():\n",
    "    list_[2] = [word for word in list_[2] if word in wv.vocab]\n",
    "    list_[3] = [word for word in list_[3] if word in wv.vocab]\n",
    "    list_[4] = [word for word in list_[4] if word in wv.vocab]\n",
    "    matrix_youtube_vocab.append(list_)\n",
    "df_netflix_vocab = pd.DataFrame(matrix_youtube_vocab, columns=videos.columns)"
   ]
  },
  {
   "cell_type": "code",
   "execution_count": null,
   "metadata": {},
   "outputs": [],
   "source": [
    "from tqdm import tqdm\n",
    "\n",
    "def recommendation(title):\n",
    "    matrix_youtube_title_vocab = []\n",
    "    for list_ in videos[videos['title'] == title].to_numpy():\n",
    "        list_[2] = [word for word in list_[2] if word in wv.vocab]\n",
    "        list_[3] = [word for word in list_[3] if word in wv.vocab]\n",
    "        list_[4] = [word for word in list_[4] if word in wv.vocab]\n",
    "        matrix_youtube_title_vocab.append(list_)\n",
    "\n",
    "    matrix_similarity = []\n",
    "    pbar = tqdm(matrix_youtube_vocab)\n",
    "    for list1 in pbar:\n",
    "        for list2 in matrix_youtube_title_vocab:\n",
    "            score_catg = wv.n_similarity(list1[2], list2[2])\n",
    "            score_desc = wv.n_similarity(list1[3], list2[3])\n",
    "            try:\n",
    "                score_title = wv.n_similarity(list1[4], list2[4])/2\n",
    "            except:\n",
    "                score_title = 0\n",
    "            if ((list1[1] != list2[1]) & (score_catg > 0.85)):\n",
    "                matrix_similarity.append([list1[1], list2[1], score_title, score_chntitle, score_tags])\n",
    "        pbar.update()\n",
    "    pbar.close()\n",
    "    df_youtube_similarity = pd.DataFrame(matrix_similarity, columns = ['recommendation','title','score_chntitle', 'score_tags'])\n",
    "    df_youtube_similarity['final_score'] = videos_similarity['score_title'] + videos_similarity['score_chntitle'] + videos_similarity['score_tags']\n",
    "    return (df_youtube_similarity.sort_values(by=['final_score', 'score_tags', 'score_chntitle'], ascending=False).head(10))"
   ]
  },
  {
   "cell_type": "code",
   "execution_count": null,
   "metadata": {},
   "outputs": [],
   "source": [
    "recommendation('drake god s plan')"
   ]
  },
  {
   "cell_type": "code",
   "execution_count": null,
   "metadata": {},
   "outputs": [],
   "source": [
    "#sentiment analysis of titles"
   ]
  },
  {
   "cell_type": "code",
   "execution_count": 11,
   "metadata": {},
   "outputs": [
    {
     "name": "stdout",
     "output_type": "stream",
     "text": [
      "Requirement already up-to-date: textblob in /opt/conda/lib/python3.7/site-packages (0.15.3)\n",
      "Requirement already satisfied, skipping upgrade: nltk>=3.1 in /opt/conda/lib/python3.7/site-packages (from textblob) (3.5)\n",
      "Requirement already satisfied, skipping upgrade: click in /opt/conda/lib/python3.7/site-packages (from nltk>=3.1->textblob) (7.1.2)\n",
      "Requirement already satisfied, skipping upgrade: tqdm in /opt/conda/lib/python3.7/site-packages (from nltk>=3.1->textblob) (4.45.0)\n",
      "Requirement already satisfied, skipping upgrade: joblib in /opt/conda/lib/python3.7/site-packages (from nltk>=3.1->textblob) (0.15.1)\n",
      "Requirement already satisfied, skipping upgrade: regex in /opt/conda/lib/python3.7/site-packages (from nltk>=3.1->textblob) (2021.3.17)\n"
     ]
    }
   ],
   "source": [
    "!python -m pip install -U textblob"
   ]
  },
  {
   "cell_type": "code",
   "execution_count": 10,
   "metadata": {},
   "outputs": [
    {
     "data": {
      "image/png": "[encoded data removed]",
      "text/plain": [
       "<Figure size 720x720 with 1 Axes>"
      ]
     },
     "metadata": {},
     "output_type": "display_data"
    }
   ],
   "source": [
    "from textblob import TextBlob\n",
    "\n",
    "bloblist_title = list()\n",
    "\n",
    "videos_title_str=videos['title']\n",
    "for row in videos_title_str:\n",
    "    blob = TextBlob(row)\n",
    "    bloblist_title.append((row,blob.sentiment.polarity, blob.sentiment.subjectivity))\n",
    "    videos_polarity_title = pd.DataFrame(bloblist_title, columns = ['sentence','sentiment','polarity'])\n",
    " \n",
    "def f_title(videos_polarity_title):\n",
    "    if videos_polarity_title['sentiment'] > 0:\n",
    "        val = \"Positive\"\n",
    "    elif videos_polarity_title['sentiment'] == 0:\n",
    "        val = \"Neutral\"\n",
    "    else:\n",
    "        val = \"Negative\"\n",
    "    return val\n",
    "\n",
    "videos_polarity_title['Sentiment_Type'] = videos_polarity_title.apply(f_title, axis=1)\n",
    "\n",
    "plt.figure(figsize=(10,10))\n",
    "sns.set_style(\"whitegrid\")\n",
    "ax = sns.countplot(x=\"Sentiment_Type\", data=videos_polarity_title)"
   ]
  },
  {
   "cell_type": "code",
   "execution_count": 34,
   "metadata": {},
   "outputs": [
    {
     "data": {
      "image/png": "[encoded data removed]",
      "text/plain": [
       "<Figure size 360x360 with 1 Axes>"
      ]
     },
     "metadata": {},
     "output_type": "display_data"
    }
   ],
   "source": [
    "bloblist_title = list()\n",
    "\n",
    "videos_title_str2=videos['tags']\n",
    "for row in videos_title_str2:\n",
    "    blob = TextBlob(row)\n",
    "    bloblist_title.append((row,blob.sentiment.polarity, blob.sentiment.subjectivity))\n",
    "    videos_polarity_title2 = pd.DataFrame(bloblist_title, columns = ['sentence','sentiment','polarity'])\n",
    " \n",
    "def f_title(videos_polarity_title2):\n",
    "    if videos_polarity_title2['sentiment'] > 0:\n",
    "        val = \"Positive\"\n",
    "    elif videos_polarity_title2['sentiment'] == 0:\n",
    "        val = \"Neutral\"\n",
    "    else:\n",
    "        val = \"Negative\"\n",
    "    return val\n",
    "\n",
    "videos_polarity_title2['Sentiment_Type'] = videos_polarity_title2.apply(f_title, axis=1)\n",
    "\n",
    "plt.figure(figsize=(5,5))\n",
    "sns.set_style(\"whitegrid\")\n",
    "ax = sns.countplot(x=\"Sentiment_Type\", data=videos_polarity_title2)"
   ]
  },
  {
   "cell_type": "code",
   "execution_count": null,
   "metadata": {},
   "outputs": [],
   "source": []
  }
 ],
 "metadata": {
  "kernelspec": {
   "display_name": "Python 3",
   "language": "python",
   "name": "python3"
  },
  "language_info": {
   "codemirror_mode": {
    "name": "ipython",
    "version": 3
   },
   "file_extension": ".py",
   "mimetype": "text/x-python",
   "name": "python",
   "nbconvert_exporter": "python",
   "pygments_lexer": "ipython3",
   "version": "3.7.6"
  }
 },
 "nbformat": 4,
 "nbformat_minor": 4
}
